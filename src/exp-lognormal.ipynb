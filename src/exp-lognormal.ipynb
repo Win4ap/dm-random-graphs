{
  "nbformat": 4,
  "nbformat_minor": 0,
  "metadata": {
    "colab": {
      "provenance": []
    },
    "kernelspec": {
      "name": "python3",
      "display_name": "Python 3"
    },
    "language_info": {
      "name": "python"
    }
  },
  "cells": [
    {
      "cell_type": "markdown",
      "source": [
        "# Исследование свойст характеристики"
      ],
      "metadata": {
        "id": "WBKDddi-GT6b"
      }
    },
    {
      "cell_type": "markdown",
      "source": [
        "## Подготовим вспомогательные инструменты для дальнейших исллдеований"
      ],
      "metadata": {
        "id": "GRxHvLxqXPkP"
      }
    },
    {
      "cell_type": "code",
      "source": [
        "import numpy as np\n",
        "from sklearn.neighbors import NearestNeighbors\n",
        "import networkx as nx"
      ],
      "metadata": {
        "id": "PCWFZ9Bxg29g"
      },
      "execution_count": 17,
      "outputs": []
    },
    {
      "cell_type": "code",
      "source": [
        "SEED = 42"
      ],
      "metadata": {
        "id": "f0X_A7VrgZmn"
      },
      "execution_count": 4,
      "outputs": []
    },
    {
      "cell_type": "markdown",
      "source": [
        "Генерация случайных величин, которые имеют распределение $Exp(λ)$ и $LogNormal(0, σ)$"
      ],
      "metadata": {
        "id": "IKD82Tddg_dJ"
      }
    },
    {
      "cell_type": "code",
      "source": [
        "from numpy.random import default_rng\n",
        "\n",
        "rng = default_rng(seed=SEED)"
      ],
      "metadata": {
        "id": "V9LaF0bTZsJD"
      },
      "execution_count": 63,
      "outputs": []
    },
    {
      "cell_type": "code",
      "source": [
        "def genrate_exp(n, lam):\n",
        "  return rng.exponential(scale=1/lam, size=n)\n",
        "\n",
        "def generate_lognormal(n, sigma):\n",
        "  return rng.lognormal(mean=0, sigma=sigma, size=n)"
      ],
      "metadata": {
        "id": "E5XBho3KgqUG"
      },
      "execution_count": 64,
      "outputs": []
    },
    {
      "cell_type": "markdown",
      "source": [
        "**Построение KNN-графа** \\\n",
        "Построим KNN-граф на нашей случайной выборке $\\Xi$"
      ],
      "metadata": {
        "id": "L7SQFszCXZXw"
      }
    },
    {
      "cell_type": "code",
      "source": [
        "def build_knn_graph(k, vertices):\n",
        "    v = np.asarray(vertices, dtype=float).reshape(-1, 1)\n",
        "    n = v.shape[0]\n",
        "\n",
        "    nbrs = NearestNeighbors(n_neighbors=k+1).fit(v)\n",
        "    distances, indices = nbrs.kneighbors(v)\n",
        "\n",
        "    G = nx.Graph()\n",
        "    G.add_nodes_from(range(n))\n",
        "\n",
        "    for i in range(n):\n",
        "        for j in indices[i][1:]:\n",
        "            G.add_edge(i, j)\n",
        "\n",
        "    return G"
      ],
      "metadata": {
        "id": "KH24t6EShwfx"
      },
      "execution_count": 39,
      "outputs": []
    },
    {
      "cell_type": "markdown",
      "source": [
        "Фукнция, которая вычисялет минимальную степень вершины в графе"
      ],
      "metadata": {
        "id": "-MGv9OepnCIn"
      }
    },
    {
      "cell_type": "code",
      "source": [
        "def min_degree(G: nx.Graph) -> int:\n",
        "    return min(deg for _, deg in G.degree())"
      ],
      "metadata": {
        "id": "sJR3lO-ckAtG"
      },
      "execution_count": 19,
      "outputs": []
    },
    {
      "cell_type": "markdown",
      "source": [
        "**Построение дистанционного графа** \\\n",
        "Построим дистанционный граф на нашей случайной выборке $\\Xi$"
      ],
      "metadata": {
        "id": "MFHbddiymN-j"
      }
    },
    {
      "cell_type": "code",
      "source": [
        "\n",
        "def build_distance_graph(d, vertices):\n",
        "    v = np.asarray(vertices)\n",
        "    n = v.size\n",
        "\n",
        "    G = nx.Graph()\n",
        "    G.add_nodes_from(range(n))\n",
        "\n",
        "    for i in range(n):\n",
        "        for j in range(i+1, n):\n",
        "            if abs(v[i] - v[j]) <= d:\n",
        "                G.add_edge(i, j)\n",
        "\n",
        "    return G"
      ],
      "metadata": {
        "id": "r2T5alXNnR8k"
      },
      "execution_count": 37,
      "outputs": []
    },
    {
      "cell_type": "markdown",
      "source": [
        "Фукнция, которая вычисялет кликовое числоfrom networkx.algorithms.clique import graph_clique_number в графе"
      ],
      "metadata": {
        "id": "tnEyjgoRq8fj"
      }
    },
    {
      "cell_type": "code",
      "source": [
        "def get_clique_number(G: nx.Graph) -> int:\n",
        "    return max((len(clique) for clique in nx.find_cliques(G)), default=0)"
      ],
      "metadata": {
        "id": "7Z2q20kiq8PL"
      },
      "execution_count": 38,
      "outputs": []
    },
    {
      "cell_type": "markdown",
      "source": [
        "**метод Монте-Карло**"
      ],
      "metadata": {
        "id": "G-b-WOTRLG1-"
      }
    },
    {
      "cell_type": "code",
      "source": [
        "def monte_carlo(M, n, param, graph_param, gen_func, graph_func, res_func):\n",
        "  results = []\n",
        "  for _ in range(M):\n",
        "    vertices = gen_func(n, param)\n",
        "    G = graph_func(graph_param, vertices)\n",
        "    results.append(res_func(G))\n",
        "  return results"
      ],
      "metadata": {
        "id": "SM0GLSkMLGS1"
      },
      "execution_count": 65,
      "outputs": []
    },
    {
      "cell_type": "markdown",
      "source": [
        "## Исследуем, как ведет себя $Τ$ в зависимости от параметров процедуры построения графа и размера выборки"
      ],
      "metadata": {
        "id": "E1yl3Q0eV11B"
      }
    },
    {
      "cell_type": "markdown",
      "source": [
        "Зафиксируем параемтры распределения: \\\n",
        "* $Exp(λ)$, $\\; λ_0 = \\frac{1}{\\sqrt{e^2 - e}}$\n",
        "* $LogNormal(0, \\sigma)$, $\\; \\sigma_0 = 1$"
      ],
      "metadata": {
        "id": "l1NO9Ul0s9_W"
      }
    },
    {
      "cell_type": "code",
      "source": [
        "import math\n",
        "\n",
        "lam0 = 1/(math.sqrt(math.e**2 - math.e))\n",
        "sigma0 = 1"
      ],
      "metadata": {
        "id": "gH13xxfxYDhs"
      },
      "execution_count": 35,
      "outputs": []
    },
    {
      "cell_type": "markdown",
      "source": [
        "#### Исследуем KNN-граф"
      ],
      "metadata": {
        "id": "9QVduVwLLpPy"
      }
    },
    {
      "cell_type": "code",
      "source": [
        "M = 500\n",
        "n_array = [100, 500, 1000, 5000, 10000]\n",
        "k_array = [2, 4, 7, 8, 9, 10, 12, 13, 16, 17, 22, 32, 64, 71, 100, 128, 224, 256, 316]"
      ],
      "metadata": {
        "id": "u3v41RMQZgwD"
      },
      "execution_count": 67,
      "outputs": []
    },
    {
      "cell_type": "markdown",
      "source": [
        "Для $Exp(\\lambda_0)$"
      ],
      "metadata": {
        "id": "6VLg4lmEZKKz"
      }
    },
    {
      "cell_type": "code",
      "source": [
        "for n in n_array:\n",
        "    for k in k_array:\n",
        "        if k >= n:\n",
        "            continue\n",
        "        results = monte_carlo(M, n, lam0, k, genrate_exp, build_knn_graph, min_degree)\n",
        "        mean_val = np.mean(results)\n",
        "        var_val = np.var(results, ddof=1)\n",
        "        std_val = math.sqrt(var_val)\n",
        "        se = std_val / math.sqrt(M)\n",
        "        ci_lower = mean_val - 1.96 * se\n",
        "        ci_upper = mean_val + 1.96 * se\n",
        "\n",
        "        print(f\"n={n}, k={k} -> mean = {mean_val:.4f}, var = {var_val:.4f}, 95% CI = ({ci_lower:.4f}, {ci_upper:.4f})\")"
      ],
      "metadata": {
        "collapsed": true,
        "id": "FqzIR_2iN4Gi"
      },
      "execution_count": null,
      "outputs": []
    },
    {
      "cell_type": "markdown",
      "source": [
        "Для $LogNormal(0, \\sigma_0)$"
      ],
      "metadata": {
        "id": "WLKGjQeSZcQC"
      }
    },
    {
      "cell_type": "code",
      "source": [
        "for n in n_array:\n",
        "    for k in k_array:\n",
        "        if k >= n:\n",
        "          continue\n",
        "        results = monte_carlo(M, n, sigma0, k, generate_lognormal, build_knn_graph, min_degree)\n",
        "        mean_val = np.mean(results)\n",
        "        var_val = np.var(results, ddof=1)\n",
        "        std_val = math.sqrt(var_val)\n",
        "        se = std_val / math.sqrt(M)\n",
        "        ci_lower = mean_val - 1.96 * se\n",
        "        ci_upper = mean_val + 1.96 * se\n",
        "\n",
        "        print(f\"n={n}, k={k} -> mean = {mean_val:.4f}, var = {var_val:.4f}, 95% CI = ({ci_lower:.4f}, {ci_upper:.4f})\")"
      ],
      "metadata": {
        "id": "TITWPuhwZuef"
      },
      "execution_count": null,
      "outputs": []
    },
    {
      "cell_type": "markdown",
      "source": [
        "#### Исследуем дистанционный-граф"
      ],
      "metadata": {
        "id": "GQt_nfDTbLQP"
      }
    },
    {
      "cell_type": "code",
      "source": [
        "M = 500\n",
        "n_array = [100, 500, 1000, 5000, 10000]\n",
        "d_array = [\n",
        "    [0.0605, 0.1210, 0.2420],\n",
        "    [0.0315, 0.0629, 0.1258],\n",
        "    [0.0235, 0.0469, 0.0938],\n",
        "    [0.0116, 0.0233, 0.0466],\n",
        "    [0.0086, 0.0171, 0.0342]\n",
        "]"
      ],
      "metadata": {
        "id": "iPuoZbC-bUeF"
      },
      "execution_count": 69,
      "outputs": []
    },
    {
      "cell_type": "markdown",
      "source": [
        "Для $Exp(\\lambda_0)$"
      ],
      "metadata": {
        "id": "-fVj_2AYbiN9"
      }
    },
    {
      "cell_type": "code",
      "source": [
        "for i, n in enumerate(n_array):\n",
        "    for d in d_array[i]:\n",
        "        results = monte_carlo(M, n, lam0, d, genrate_exp, build_distance_graph, get_clique_number)\n",
        "        mean_val = np.mean(results)\n",
        "        var_val = np.var(results, ddof=1)\n",
        "        std_val = math.sqrt(var_val)\n",
        "        se = std_val / math.sqrt(M)\n",
        "        ci_lower = mean_val - 1.96 * se\n",
        "        ci_upper = mean_val + 1.96 * se\n",
        "\n",
        "        print(f\"n={n}, d={d} -> mean = {mean_val:.4f}, var = {var_val:.4f}, 95% CI = ({ci_lower:.4f}, {ci_upper:.4f})\")"
      ],
      "metadata": {
        "colab": {
          "base_uri": "https://localhost:8080/",
          "height": 443
        },
        "id": "RprcalE9bbZj",
        "outputId": "c7052821-448a-4d2c-9c28-e2ebb5d35027"
      },
      "execution_count": 71,
      "outputs": [
        {
          "output_type": "stream",
          "name": "stdout",
          "text": [
            "n=100, d=0.0605 -> mean = 6.5360, var = 1.2953, 95% CI = (6.4362, 6.6358)\n",
            "n=100, d=0.121 -> mean = 9.3980, var = 2.2040, 95% CI = (9.2679, 9.5281)\n",
            "n=100, d=0.242 -> mean = 14.6080, var = 4.7879, 95% CI = (14.4162, 14.7998)\n",
            "n=500, d=0.0315 -> mean = 13.6620, var = 2.7493, 95% CI = (13.5167, 13.8073)\n",
            "n=500, d=0.0629 -> mean = 21.3900, var = 5.5931, 95% CI = (21.1827, 21.5973)\n"
          ]
        },
        {
          "output_type": "error",
          "ename": "KeyboardInterrupt",
          "evalue": "",
          "traceback": [
            "\u001b[0;31m---------------------------------------------------------------------------\u001b[0m",
            "\u001b[0;31mKeyboardInterrupt\u001b[0m                         Traceback (most recent call last)",
            "\u001b[0;32m<ipython-input-71-8ac0abd80969>\u001b[0m in \u001b[0;36m<cell line: 0>\u001b[0;34m()\u001b[0m\n\u001b[1;32m      1\u001b[0m \u001b[0;32mfor\u001b[0m \u001b[0mi\u001b[0m\u001b[0;34m,\u001b[0m \u001b[0mn\u001b[0m \u001b[0;32min\u001b[0m \u001b[0menumerate\u001b[0m\u001b[0;34m(\u001b[0m\u001b[0mn_array\u001b[0m\u001b[0;34m)\u001b[0m\u001b[0;34m:\u001b[0m\u001b[0;34m\u001b[0m\u001b[0;34m\u001b[0m\u001b[0m\n\u001b[1;32m      2\u001b[0m     \u001b[0;32mfor\u001b[0m \u001b[0md\u001b[0m \u001b[0;32min\u001b[0m \u001b[0md_array\u001b[0m\u001b[0;34m[\u001b[0m\u001b[0mi\u001b[0m\u001b[0;34m]\u001b[0m\u001b[0;34m:\u001b[0m\u001b[0;34m\u001b[0m\u001b[0;34m\u001b[0m\u001b[0m\n\u001b[0;32m----> 3\u001b[0;31m         \u001b[0mresults\u001b[0m \u001b[0;34m=\u001b[0m \u001b[0mmonte_carlo\u001b[0m\u001b[0;34m(\u001b[0m\u001b[0mM\u001b[0m\u001b[0;34m,\u001b[0m \u001b[0mn\u001b[0m\u001b[0;34m,\u001b[0m \u001b[0mlam0\u001b[0m\u001b[0;34m,\u001b[0m \u001b[0md\u001b[0m\u001b[0;34m,\u001b[0m \u001b[0mgenrate_exp\u001b[0m\u001b[0;34m,\u001b[0m \u001b[0mbuild_distance_graph\u001b[0m\u001b[0;34m,\u001b[0m \u001b[0mget_clique_number\u001b[0m\u001b[0;34m)\u001b[0m\u001b[0;34m\u001b[0m\u001b[0;34m\u001b[0m\u001b[0m\n\u001b[0m\u001b[1;32m      4\u001b[0m         \u001b[0mmean_val\u001b[0m \u001b[0;34m=\u001b[0m \u001b[0mnp\u001b[0m\u001b[0;34m.\u001b[0m\u001b[0mmean\u001b[0m\u001b[0;34m(\u001b[0m\u001b[0mresults\u001b[0m\u001b[0;34m)\u001b[0m\u001b[0;34m\u001b[0m\u001b[0;34m\u001b[0m\u001b[0m\n\u001b[1;32m      5\u001b[0m         \u001b[0mvar_val\u001b[0m \u001b[0;34m=\u001b[0m \u001b[0mnp\u001b[0m\u001b[0;34m.\u001b[0m\u001b[0mvar\u001b[0m\u001b[0;34m(\u001b[0m\u001b[0mresults\u001b[0m\u001b[0;34m,\u001b[0m \u001b[0mddof\u001b[0m\u001b[0;34m=\u001b[0m\u001b[0;36m1\u001b[0m\u001b[0;34m)\u001b[0m\u001b[0;34m\u001b[0m\u001b[0;34m\u001b[0m\u001b[0m\n",
            "\u001b[0;32m<ipython-input-65-6ec55d888c4a>\u001b[0m in \u001b[0;36mmonte_carlo\u001b[0;34m(M, n, param, graph_param, gen_func, graph_func, res_func)\u001b[0m\n\u001b[1;32m      3\u001b[0m   \u001b[0;32mfor\u001b[0m \u001b[0m_\u001b[0m \u001b[0;32min\u001b[0m \u001b[0mrange\u001b[0m\u001b[0;34m(\u001b[0m\u001b[0mM\u001b[0m\u001b[0;34m)\u001b[0m\u001b[0;34m:\u001b[0m\u001b[0;34m\u001b[0m\u001b[0;34m\u001b[0m\u001b[0m\n\u001b[1;32m      4\u001b[0m     \u001b[0mvertices\u001b[0m \u001b[0;34m=\u001b[0m \u001b[0mgen_func\u001b[0m\u001b[0;34m(\u001b[0m\u001b[0mn\u001b[0m\u001b[0;34m,\u001b[0m \u001b[0mparam\u001b[0m\u001b[0;34m)\u001b[0m\u001b[0;34m\u001b[0m\u001b[0;34m\u001b[0m\u001b[0m\n\u001b[0;32m----> 5\u001b[0;31m     \u001b[0mG\u001b[0m \u001b[0;34m=\u001b[0m \u001b[0mgraph_func\u001b[0m\u001b[0;34m(\u001b[0m\u001b[0mgraph_param\u001b[0m\u001b[0;34m,\u001b[0m \u001b[0mvertices\u001b[0m\u001b[0;34m)\u001b[0m\u001b[0;34m\u001b[0m\u001b[0;34m\u001b[0m\u001b[0m\n\u001b[0m\u001b[1;32m      6\u001b[0m     \u001b[0mresults\u001b[0m\u001b[0;34m.\u001b[0m\u001b[0mappend\u001b[0m\u001b[0;34m(\u001b[0m\u001b[0mres_func\u001b[0m\u001b[0;34m(\u001b[0m\u001b[0mG\u001b[0m\u001b[0;34m)\u001b[0m\u001b[0;34m)\u001b[0m\u001b[0;34m\u001b[0m\u001b[0;34m\u001b[0m\u001b[0m\n\u001b[1;32m      7\u001b[0m   \u001b[0;32mreturn\u001b[0m \u001b[0mresults\u001b[0m\u001b[0;34m\u001b[0m\u001b[0;34m\u001b[0m\u001b[0m\n",
            "\u001b[0;32m<ipython-input-37-0f115ee996de>\u001b[0m in \u001b[0;36mbuild_distance_graph\u001b[0;34m(d, vertices)\u001b[0m\n\u001b[1;32m      9\u001b[0m         \u001b[0;32mfor\u001b[0m \u001b[0mj\u001b[0m \u001b[0;32min\u001b[0m \u001b[0mrange\u001b[0m\u001b[0;34m(\u001b[0m\u001b[0mi\u001b[0m\u001b[0;34m+\u001b[0m\u001b[0;36m1\u001b[0m\u001b[0;34m,\u001b[0m \u001b[0mn\u001b[0m\u001b[0;34m)\u001b[0m\u001b[0;34m:\u001b[0m\u001b[0;34m\u001b[0m\u001b[0;34m\u001b[0m\u001b[0m\n\u001b[1;32m     10\u001b[0m             \u001b[0;32mif\u001b[0m \u001b[0mabs\u001b[0m\u001b[0;34m(\u001b[0m\u001b[0mv\u001b[0m\u001b[0;34m[\u001b[0m\u001b[0mi\u001b[0m\u001b[0;34m]\u001b[0m \u001b[0;34m-\u001b[0m \u001b[0mv\u001b[0m\u001b[0;34m[\u001b[0m\u001b[0mj\u001b[0m\u001b[0;34m]\u001b[0m\u001b[0;34m)\u001b[0m \u001b[0;34m<=\u001b[0m \u001b[0md\u001b[0m\u001b[0;34m:\u001b[0m\u001b[0;34m\u001b[0m\u001b[0;34m\u001b[0m\u001b[0m\n\u001b[0;32m---> 11\u001b[0;31m                 \u001b[0mG\u001b[0m\u001b[0;34m.\u001b[0m\u001b[0madd_edge\u001b[0m\u001b[0;34m(\u001b[0m\u001b[0mi\u001b[0m\u001b[0;34m,\u001b[0m \u001b[0mj\u001b[0m\u001b[0;34m)\u001b[0m\u001b[0;34m\u001b[0m\u001b[0;34m\u001b[0m\u001b[0m\n\u001b[0m\u001b[1;32m     12\u001b[0m \u001b[0;34m\u001b[0m\u001b[0m\n\u001b[1;32m     13\u001b[0m     \u001b[0;32mreturn\u001b[0m \u001b[0mG\u001b[0m\u001b[0;34m\u001b[0m\u001b[0;34m\u001b[0m\u001b[0m\n",
            "\u001b[0;32m/usr/local/lib/python3.11/dist-packages/networkx/classes/graph.py\u001b[0m in \u001b[0;36madd_edge\u001b[0;34m(self, u_of_edge, v_of_edge, **attr)\u001b[0m\n\u001b[1;32m    971\u001b[0m         \u001b[0mself\u001b[0m\u001b[0;34m.\u001b[0m\u001b[0m_adj\u001b[0m\u001b[0;34m[\u001b[0m\u001b[0mu\u001b[0m\u001b[0;34m]\u001b[0m\u001b[0;34m[\u001b[0m\u001b[0mv\u001b[0m\u001b[0;34m]\u001b[0m \u001b[0;34m=\u001b[0m \u001b[0mdatadict\u001b[0m\u001b[0;34m\u001b[0m\u001b[0;34m\u001b[0m\u001b[0m\n\u001b[1;32m    972\u001b[0m         \u001b[0mself\u001b[0m\u001b[0;34m.\u001b[0m\u001b[0m_adj\u001b[0m\u001b[0;34m[\u001b[0m\u001b[0mv\u001b[0m\u001b[0;34m]\u001b[0m\u001b[0;34m[\u001b[0m\u001b[0mu\u001b[0m\u001b[0;34m]\u001b[0m \u001b[0;34m=\u001b[0m \u001b[0mdatadict\u001b[0m\u001b[0;34m\u001b[0m\u001b[0;34m\u001b[0m\u001b[0m\n\u001b[0;32m--> 973\u001b[0;31m         \u001b[0mnx\u001b[0m\u001b[0;34m.\u001b[0m\u001b[0m_clear_cache\u001b[0m\u001b[0;34m(\u001b[0m\u001b[0mself\u001b[0m\u001b[0;34m)\u001b[0m\u001b[0;34m\u001b[0m\u001b[0;34m\u001b[0m\u001b[0m\n\u001b[0m\u001b[1;32m    974\u001b[0m \u001b[0;34m\u001b[0m\u001b[0m\n\u001b[1;32m    975\u001b[0m     \u001b[0;32mdef\u001b[0m \u001b[0madd_edges_from\u001b[0m\u001b[0;34m(\u001b[0m\u001b[0mself\u001b[0m\u001b[0;34m,\u001b[0m \u001b[0mebunch_to_add\u001b[0m\u001b[0;34m,\u001b[0m \u001b[0;34m**\u001b[0m\u001b[0mattr\u001b[0m\u001b[0;34m)\u001b[0m\u001b[0;34m:\u001b[0m\u001b[0;34m\u001b[0m\u001b[0;34m\u001b[0m\u001b[0m\n",
            "\u001b[0;32m/usr/local/lib/python3.11/dist-packages/networkx/utils/misc.py\u001b[0m in \u001b[0;36m_clear_cache\u001b[0;34m(G)\u001b[0m\n\u001b[1;32m    593\u001b[0m \u001b[0;34m\u001b[0m\u001b[0m\n\u001b[1;32m    594\u001b[0m \u001b[0;34m\u001b[0m\u001b[0m\n\u001b[0;32m--> 595\u001b[0;31m \u001b[0;32mdef\u001b[0m \u001b[0m_clear_cache\u001b[0m\u001b[0;34m(\u001b[0m\u001b[0mG\u001b[0m\u001b[0;34m)\u001b[0m\u001b[0;34m:\u001b[0m\u001b[0;34m\u001b[0m\u001b[0;34m\u001b[0m\u001b[0m\n\u001b[0m\u001b[1;32m    596\u001b[0m     \"\"\"Clear the cache of a graph (currently stores converted graphs).\n\u001b[1;32m    597\u001b[0m \u001b[0;34m\u001b[0m\u001b[0m\n",
            "\u001b[0;31mKeyboardInterrupt\u001b[0m: "
          ]
        }
      ]
    },
    {
      "cell_type": "markdown",
      "source": [
        "Для $LogNormal(0, \\sigma_0)$"
      ],
      "metadata": {
        "id": "Ni79phoSbe_Q"
      }
    },
    {
      "cell_type": "code",
      "source": [
        "for i, n in enumerate(n_array):\n",
        "    for d in d_array[i]:\n",
        "        results = monte_carlo(M, n, sigma0, d, generate_lognormal, build_distance_graph, get_clique_number)\n",
        "        mean_val = np.mean(results)\n",
        "        var_val = np.var(results, ddof=1)\n",
        "        std_val = math.sqrt(var_val)\n",
        "        se = std_val / math.sqrt(M)\n",
        "        ci_lower = mean_val - 1.96 * se\n",
        "        ci_upper = mean_val + 1.96 * se\n",
        "\n",
        "        print(f\"n={n}, d={d} -> mean = {mean_val:.4f}, var = {var_val:.4f}, 95% CI = ({ci_lower:.4f}, {ci_upper:.4f})\")"
      ],
      "metadata": {
        "id": "JdlnkM2ybdRF"
      },
      "execution_count": null,
      "outputs": []
    },
    {
      "cell_type": "markdown",
      "source": [
        "## Исследуем, как ведет себя $Τ$ в зависимости от параметров распределения"
      ],
      "metadata": {
        "id": "ANaZ54IhVAnQ"
      }
    },
    {
      "cell_type": "markdown",
      "source": [
        "#### Исследуем KNN-граф"
      ],
      "metadata": {
        "id": "64EuiX5PctBs"
      }
    },
    {
      "cell_type": "code",
      "source": [
        "n = 100\n",
        "k = 10\n",
        "d = 0.15"
      ],
      "metadata": {
        "id": "FEVp3PAPeOR6"
      },
      "execution_count": 75,
      "outputs": []
    },
    {
      "cell_type": "markdown",
      "source": [
        "Для $Exp(\\lambda)$"
      ],
      "metadata": {
        "id": "40nH2KFxc0SA"
      }
    },
    {
      "cell_type": "code",
      "source": [
        "lam_array = [0.1, 0.25, 0.5, 1.0, 2.0, 4.0]"
      ],
      "metadata": {
        "id": "iA_kspDoV_i6"
      },
      "execution_count": 74,
      "outputs": []
    },
    {
      "cell_type": "code",
      "source": [
        "for lam in lam_array:\n",
        "    results = monte_carlo(M, n, lam, k, genrate_exp, build_knn_graph, min_degree)\n",
        "    mean_val = np.mean(results)\n",
        "    var_val = np.var(results, ddof=1)\n",
        "    std_val = math.sqrt(var_val)\n",
        "    se = std_val / math.sqrt(M)\n",
        "    ci_lower = mean_val - 1.96 * se\n",
        "    ci_upper = mean_val + 1.96 * se\n",
        "\n",
        "    print(f\"n={n}, k={k} -> mean = {mean_val:.4f}, var = {var_val:.4f}, 95% CI = ({ci_lower:.4f}, {ci_upper:.4f})\")"
      ],
      "metadata": {
        "id": "zvI-9pe_edfD"
      },
      "execution_count": null,
      "outputs": []
    },
    {
      "cell_type": "markdown",
      "source": [
        "Для $LogNormal(0, \\sigma)$"
      ],
      "metadata": {
        "id": "W1rBsJ2Pc3bU"
      }
    },
    {
      "cell_type": "code",
      "source": [
        "sigma_array = [0.25, 0.5, 0.75, 1.0, 1.5, 2.0]"
      ],
      "metadata": {
        "id": "Fuo_2mKLc7TN"
      },
      "execution_count": null,
      "outputs": []
    },
    {
      "cell_type": "code",
      "source": [
        "for sigma in sigma_array:\n",
        "    results = monte_carlo(M, n, sigma, k, generate_lognormal, build_knn_graph, min_degree)\n",
        "    mean_val = np.mean(results)\n",
        "    var_val = np.var(results, ddof=1)\n",
        "    std_val = math.sqrt(var_val)\n",
        "    se = std_val / math.sqrt(M)\n",
        "    ci_lower = mean_val - 1.96 * se\n",
        "    ci_upper = mean_val + 1.96 * se\n",
        "\n",
        "    print(f\"n={n}, k={k} -> mean = {mean_val:.4f}, var = {var_val:.4f}, 95% CI = ({ci_lower:.4f}, {ci_upper:.4f})\")"
      ],
      "metadata": {
        "id": "hnyVyQBSfVLI"
      },
      "execution_count": null,
      "outputs": []
    },
    {
      "cell_type": "markdown",
      "source": [
        "#### Исследуем дистанционный-граф"
      ],
      "metadata": {
        "id": "9XQ_SCFbcvkd"
      }
    },
    {
      "cell_type": "markdown",
      "source": [
        "Для $Exp(\\lambda)$"
      ],
      "metadata": {
        "id": "KPUDDuDOc1hs"
      }
    },
    {
      "cell_type": "code",
      "source": [
        "lam_array = [0.1, 0.25, 0.5, 1.0, 2.0, 4.0]"
      ],
      "metadata": {
        "id": "bn7VEARVfC_7"
      },
      "execution_count": null,
      "outputs": []
    },
    {
      "cell_type": "code",
      "source": [
        "for lam in lam_array:\n",
        "    results = monte_carlo(M, n, lam, d, genrate_exp, build_distance_graph, get_clique_number)\n",
        "    mean_val = np.mean(results)\n",
        "    var_val = np.var(results, ddof=1)\n",
        "    std_val = math.sqrt(var_val)\n",
        "    se = std_val / math.sqrt(M)\n",
        "    ci_lower = mean_val - 1.96 * se\n",
        "    ci_upper = mean_val + 1.96 * se\n",
        "\n",
        "    print(f\"n={n}, d={d} -> mean = {mean_val:.4f}, var = {var_val:.4f}, 95% CI = ({ci_lower:.4f}, {ci_upper:.4f})\")"
      ],
      "metadata": {
        "id": "yDU3M3a-c2_L"
      },
      "execution_count": null,
      "outputs": []
    },
    {
      "cell_type": "markdown",
      "source": [
        "Для $LogNormal(0, \\sigma)$"
      ],
      "metadata": {
        "id": "0tcki1x1c7r-"
      }
    },
    {
      "cell_type": "code",
      "source": [
        "sigma_array = [0.25, 0.5, 0.75, 1.0, 1.5, 2.0]"
      ],
      "metadata": {
        "id": "NqABrfwLc9Kf"
      },
      "execution_count": null,
      "outputs": []
    },
    {
      "cell_type": "code",
      "source": [
        "for sigma in sigma_array:\n",
        "    results = monte_carlo(M, n, sigma, d, generate_lognormal, build_distance_graph, get_clique_number)\n",
        "    mean_val = np.mean(results)\n",
        "    var_val = np.var(results, ddof=1)\n",
        "    std_val = math.sqrt(var_val)\n",
        "    se = std_val / math.sqrt(M)\n",
        "    ci_lower = mean_val - 1.96 * se\n",
        "    ci_upper = mean_val + 1.96 * se\n",
        "\n",
        "    print(f\"n={n}, d={d} -> mean = {mean_val:.4f}, var = {var_val:.4f}, 95% CI = ({ci_lower:.4f}, {ci_upper:.4f})\")"
      ],
      "metadata": {
        "id": "yYBSmEdYfWnS"
      },
      "execution_count": null,
      "outputs": []
    }
  ]
}