{
 "cells": [
  {
   "cell_type": "markdown",
   "metadata": {},
   "source": [
    "# Генерация датасета"
   ]
  },
  {
   "cell_type": "markdown",
   "metadata": {},
   "source": [
    "В первой части проекта мы пришли к выводу, что для данной задачи лучше использовать дистанционный граф с параметром `d = 0.8`.\\\n",
    "Поэтому далее будем работать только с дистанционным графом."
   ]
  },
  {
   "cell_type": "code",
   "execution_count": 222,
   "metadata": {},
   "outputs": [],
   "source": [
    "import numpy as np\n",
    "from sklearn.neighbors import NearestNeighbors\n",
    "import networkx as nx"
   ]
  },
  {
   "cell_type": "markdown",
   "metadata": {},
   "source": [
    "## Вспомогательные функции"
   ]
  },
  {
   "cell_type": "markdown",
   "metadata": {},
   "source": [
    "Генерация случайных величин, которые имеют распределение $Exp(λ)$ и $LogNormal(0, σ)$"
   ]
  },
  {
   "cell_type": "code",
   "execution_count": 223,
   "metadata": {},
   "outputs": [],
   "source": [
    "import math\n",
    "\n",
    "lam0 = 1/(math.sqrt(math.e**2 - math.e))\n",
    "sigma0 = 1"
   ]
  },
  {
   "cell_type": "code",
   "execution_count": 224,
   "metadata": {},
   "outputs": [],
   "source": [
    "def generate_exp(n, lam=lam0):\n",
    "  return np.random.exponential(scale=1 / lam, size=n)\n",
    "\n",
    "def generate_lognormal(n, sigma=sigma0):\n",
    "  return np.random.lognormal(mean=0, sigma=sigma, size=n)"
   ]
  },
  {
   "cell_type": "markdown",
   "metadata": {},
   "source": [
    "Функция, которая строит дистанционный граф"
   ]
  },
  {
   "cell_type": "code",
   "execution_count": 225,
   "metadata": {},
   "outputs": [],
   "source": [
    "# параметр дистанцонного графа\n",
    "D = 0.8"
   ]
  },
  {
   "cell_type": "code",
   "execution_count": 226,
   "metadata": {},
   "outputs": [],
   "source": [
    "def build_distance_graph(vertices):\n",
    "    v = np.asarray(vertices)\n",
    "    n = v.size\n",
    "\n",
    "    G = nx.Graph()\n",
    "    G.add_nodes_from(range(n))\n",
    "\n",
    "    for i in range(n):\n",
    "        for j in range(i+1, n):\n",
    "            if abs(v[i] - v[j]) <= D:\n",
    "                G.add_edge(i, j)\n",
    "\n",
    "    return G"
   ]
  },
  {
   "cell_type": "markdown",
   "metadata": {},
   "source": [
    "Создадим функции, которые будут считать характеристики дистанционного графа"
   ]
  },
  {
   "cell_type": "code",
   "execution_count": 227,
   "metadata": {},
   "outputs": [],
   "source": [
    "import networkx as nx\n",
    "from collections import Counter\n",
    "from networkx.algorithms.approximation.dominating_set import min_weighted_dominating_set\n",
    "from networkx.algorithms import maximal_independent_set"
   ]
  },
  {
   "cell_type": "code",
   "execution_count": 228,
   "metadata": {},
   "outputs": [],
   "source": [
    "def chromatic_number(G: nx.Graph) -> int:\n",
    "    \"\"\"\n",
    "    Функция для поиска хроматического числа графа G\n",
    "    \"\"\"\n",
    "    coloring = nx.coloring.greedy_color(G, strategy='largest_first')\n",
    "    return max(coloring.values(), default=-1) + 1"
   ]
  },
  {
   "cell_type": "code",
   "execution_count": 229,
   "metadata": {},
   "outputs": [],
   "source": [
    "def clique_number(G: nx.Graph) -> int:\n",
    "    \"\"\"\n",
    "    Функция для поиска кликового числа графа G\n",
    "    \"\"\"\n",
    "    Gc = nx.complement(G)\n",
    "    coloring = nx.coloring.greedy_color(Gc, strategy='largest_first')\n",
    "    counts = Counter(coloring.values())\n",
    "    return max(counts.values(), default=0)"
   ]
  },
  {
   "cell_type": "code",
   "execution_count": 230,
   "metadata": {},
   "outputs": [],
   "source": [
    "def max_independent_set_size(G: nx.Graph) -> int:\n",
    "    \"\"\"\n",
    "    Функция для поиска размера максимального \n",
    "    независимого множества графа G\n",
    "    \"\"\"\n",
    "    mis = maximal_independent_set(G)\n",
    "    return len(mis)"
   ]
  },
  {
   "cell_type": "code",
   "execution_count": 231,
   "metadata": {},
   "outputs": [],
   "source": [
    "def domination_number(G: nx.Graph) -> int:\n",
    "    \"\"\"\n",
    "    Функция для поиска числа \n",
    "    доминирования для графа G\n",
    "    \"\"\"\n",
    "    D = min_weighted_dominating_set(G)\n",
    "    return len(D)"
   ]
  },
  {
   "cell_type": "code",
   "execution_count": 232,
   "metadata": {},
   "outputs": [],
   "source": [
    "def min_clique_cover_size(G: nx.Graph) -> int:\n",
    "    \"\"\"\n",
    "    Функция для поиска размера максимального\n",
    "    кликового покрытия графа G\n",
    "    \"\"\"\n",
    "    Gc = nx.complement(G)\n",
    "    coloring = nx.coloring.greedy_color(Gc, strategy='largest_first')\n",
    "    return len(set(coloring.values()))"
   ]
  },
  {
   "cell_type": "markdown",
   "metadata": {},
   "source": [
    "## Генерация датасета"
   ]
  },
  {
   "cell_type": "code",
   "execution_count": 233,
   "metadata": {},
   "outputs": [],
   "source": [
    "import numpy as np\n",
    "import pandas as pd\n",
    "from joblib import Parallel, delayed\n",
    "from tqdm import tqdm\n",
    "from tqdm.contrib.concurrent import process_map\n",
    "import networkx as nx"
   ]
  },
  {
   "cell_type": "code",
   "execution_count": 234,
   "metadata": {},
   "outputs": [],
   "source": [
    "SEED = 42\n",
    "SAMPLES = 10000\n",
    "N = [25, 50, 100, 150, 200, 250, 300, 350, 400, 450, 500]"
   ]
  },
  {
   "cell_type": "code",
   "execution_count": 235,
   "metadata": {},
   "outputs": [],
   "source": [
    "\n",
    "def generate_row(idx: int, seed: int) -> dict:\n",
    "    rng = np.random.RandomState(seed + idx)\n",
    "    distributions = {\n",
    "        0: generate_exp,\n",
    "        1: generate_lognormal\n",
    "    }\n",
    "\n",
    "    n = rng.choice(N)\n",
    "    dist_label = int(rng.choice([0, 1]))\n",
    "    gen_func = distributions[dist_label]\n",
    "    \n",
    "    vertices = gen_func(n)\n",
    "    G = build_distance_graph(vertices)\n",
    "    \n",
    "    return {\n",
    "        'n': n,\n",
    "        'distribution': dist_label,\n",
    "        'chromatic_number': chromatic_number(G),\n",
    "        'clique_number': clique_number(G),\n",
    "        'max_independent_set_size': max_independent_set_size(G),\n",
    "        'domination_number': domination_number(G),\n",
    "        'min_clique_cover_size': min_clique_cover_size(G)\n",
    "    }"
   ]
  },
  {
   "cell_type": "code",
   "execution_count": 236,
   "metadata": {},
   "outputs": [],
   "source": [
    "def generate_dataset(num_samples=SAMPLES, seed=SEED):\n",
    "    records = Parallel(n_jobs=-1, verbose=0)(\n",
    "        delayed(generate_row)(i, seed)\n",
    "        for i in tqdm(range(num_samples), desc=\"Generating rows\")\n",
    "    )\n",
    "\n",
    "    df = pd.DataFrame.from_records(records, columns=[\n",
    "        'n', 'distribution',\n",
    "        'chromatic_number', 'clique_number',\n",
    "        'max_independent_set_size',\n",
    "        'domination_number', 'min_clique_cover_size'\n",
    "    ])\n",
    "    df.to_csv('data/distance_graph_dataset.csv', index=False)"
   ]
  },
  {
   "cell_type": "code",
   "execution_count": 242,
   "metadata": {},
   "outputs": [
    {
     "name": "stderr",
     "output_type": "stream",
     "text": [
      "Generating rows: 100%|██████████| 10000/10000 [09:36<00:00, 17.35it/s]\n"
     ]
    }
   ],
   "source": [
    "generate_dataset()"
   ]
  }
 ],
 "metadata": {
  "kernelspec": {
   "display_name": "dm-random-graphs",
   "language": "python",
   "name": "python3"
  },
  "language_info": {
   "codemirror_mode": {
    "name": "ipython",
    "version": 3
   },
   "file_extension": ".py",
   "mimetype": "text/x-python",
   "name": "python",
   "nbconvert_exporter": "python",
   "pygments_lexer": "ipython3",
   "version": "3.11.11"
  }
 },
 "nbformat": 4,
 "nbformat_minor": 2
}
