{
 "cells": [
  {
   "cell_type": "markdown",
   "metadata": {},
   "source": [
    "# Генерация датасета"
   ]
  },
  {
   "cell_type": "markdown",
   "metadata": {},
   "source": [
    "В первой части проекта мы пришли к выводу, что для данной задачи лучше использовать дистанционный граф с параметром `d = 0.9`.\\\n",
    "Поэтому далее будем работать только с дистанционным графом."
   ]
  },
  {
   "cell_type": "code",
   "execution_count": 1,
   "metadata": {},
   "outputs": [],
   "source": [
    "import numpy as np\n",
    "from sklearn.neighbors import NearestNeighbors\n",
    "import networkx as nx"
   ]
  },
  {
   "cell_type": "markdown",
   "metadata": {},
   "source": [
    "## Вспомогательные функции"
   ]
  },
  {
   "cell_type": "markdown",
   "metadata": {},
   "source": [
    "Генерация случайных величин, которые имеют распределение $Normal(0,σ)$ и $SkewNormal(α)$"
   ]
  },
  {
   "cell_type": "code",
   "execution_count": 2,
   "metadata": {},
   "outputs": [],
   "source": [
    "import math\n",
    "\n",
    "sigma0 = 1\n",
    "alpha0 = 1"
   ]
  },
  {
   "cell_type": "code",
   "execution_count": 17,
   "metadata": {},
   "outputs": [],
   "source": [
    "def generate_normal(n, sigma=sigma0):\n",
    "  return np.random.normal(0, sigma, n)\n",
    "\n",
    "# Плохо для параллельных вычислений\n",
    "# def generate_skewnormal(n, alpha):\n",
    "#   return skewnorm.rvs(alpha, size=n)\n",
    "\n",
    "# https://stackoverflow.com/questions/36200913/generate-n-random-numbers-from-a-skew-normal-distribution-using-numpy\n",
    "# literal adaption from:\n",
    "# http://stackoverflow.com/questions/4643285/how-to-generate-random-numbers-that-follow-skew-normal-distribution-in-matlab\n",
    "# original at:\n",
    "# http://www.ozgrid.com/forum/showthread.php?t=108175\n",
    "def rand_skew_norm(fAlpha, fLocation, fScale):\n",
    "    sigma = fAlpha / np.sqrt(1.0 + fAlpha**2) \n",
    "\n",
    "    afRN = np.random.randn(2)\n",
    "    u0 = afRN[0]\n",
    "    v = afRN[1]\n",
    "    u1 = sigma*u0 + np.sqrt(1.0 -sigma**2) * v \n",
    "\n",
    "    if u0 >= 0:\n",
    "        return u1*fScale + fLocation \n",
    "    return (-u1)*fScale + fLocation \n",
    "\n",
    "def generate_skewnormal(N, skew=alpha0):\n",
    "    return [rand_skew_norm(skew, 0, 1) for x in range(N)]"
   ]
  },
  {
   "cell_type": "markdown",
   "metadata": {},
   "source": [
    "Функция, которая строит дистанционный граф"
   ]
  },
  {
   "cell_type": "code",
   "execution_count": 4,
   "metadata": {},
   "outputs": [],
   "source": [
    "# параметр дистанцонного графа\n",
    "D = 0.9"
   ]
  },
  {
   "cell_type": "code",
   "execution_count": 5,
   "metadata": {},
   "outputs": [],
   "source": [
    "def build_distance_graph(vertices):\n",
    "    v = np.asarray(vertices)\n",
    "    n = v.size\n",
    "\n",
    "    G = nx.Graph()\n",
    "    G.add_nodes_from(range(n))\n",
    "\n",
    "    for i in range(n):\n",
    "        for j in range(i+1, n):\n",
    "            if abs(v[i] - v[j]) <= D:\n",
    "                G.add_edge(i, j)\n",
    "\n",
    "    return G"
   ]
  },
  {
   "cell_type": "markdown",
   "metadata": {},
   "source": [
    "Создадим функции, которые будут считать характеристики дистанционного графа"
   ]
  },
  {
   "cell_type": "code",
   "execution_count": 6,
   "metadata": {},
   "outputs": [],
   "source": [
    "import networkx as nx\n",
    "from collections import Counter\n",
    "from networkx.algorithms.approximation.dominating_set import min_weighted_dominating_set\n",
    "from networkx.algorithms import maximal_independent_set"
   ]
  },
  {
   "cell_type": "code",
   "execution_count": 7,
   "metadata": {},
   "outputs": [],
   "source": [
    "def chromatic_number(G: nx.Graph) -> int:\n",
    "    \"\"\"\n",
    "    Функция для поиска хроматического числа графа G\n",
    "    \"\"\"\n",
    "    coloring = nx.coloring.greedy_color(G, strategy='largest_first')\n",
    "    return max(coloring.values(), default=-1) + 1"
   ]
  },
  {
   "cell_type": "code",
   "execution_count": 8,
   "metadata": {},
   "outputs": [],
   "source": [
    "def clique_number(G: nx.Graph) -> int:\n",
    "    \"\"\"\n",
    "    Функция для поиска кликового числа графа G\n",
    "    \"\"\"\n",
    "    Gc = nx.complement(G)\n",
    "    coloring = nx.coloring.greedy_color(Gc, strategy='largest_first')\n",
    "    counts = Counter(coloring.values())\n",
    "    return max(counts.values(), default=0)"
   ]
  },
  {
   "cell_type": "code",
   "execution_count": 9,
   "metadata": {},
   "outputs": [],
   "source": [
    "def max_independent_set_size(G: nx.Graph) -> int:\n",
    "    \"\"\"\n",
    "    Функция для поиска размера максимального \n",
    "    независимого множества графа G\n",
    "    \"\"\"\n",
    "    mis = maximal_independent_set(G)\n",
    "    return len(mis)"
   ]
  },
  {
   "cell_type": "code",
   "execution_count": 10,
   "metadata": {},
   "outputs": [],
   "source": [
    "def domination_number(G: nx.Graph) -> int:\n",
    "    \"\"\"\n",
    "    Функция для поиска числа \n",
    "    доминирования для графа G\n",
    "    \"\"\"\n",
    "    D = min_weighted_dominating_set(G)\n",
    "    return len(D)"
   ]
  },
  {
   "cell_type": "code",
   "execution_count": 11,
   "metadata": {},
   "outputs": [],
   "source": [
    "def min_clique_cover_size(G: nx.Graph) -> int:\n",
    "    \"\"\"\n",
    "    Функция для поиска размера максимального\n",
    "    кликового покрытия графа G\n",
    "    \"\"\"\n",
    "    Gc = nx.complement(G)\n",
    "    coloring = nx.coloring.greedy_color(Gc, strategy='largest_first')\n",
    "    return len(set(coloring.values()))"
   ]
  },
  {
   "cell_type": "markdown",
   "metadata": {},
   "source": [
    "## Генерация датасета"
   ]
  },
  {
   "cell_type": "code",
   "execution_count": 12,
   "metadata": {},
   "outputs": [],
   "source": [
    "import numpy as np\n",
    "import pandas as pd\n",
    "from joblib import Parallel, delayed\n",
    "from tqdm import tqdm\n",
    "from tqdm.contrib.concurrent import process_map\n",
    "import networkx as nx"
   ]
  },
  {
   "cell_type": "code",
   "execution_count": null,
   "metadata": {},
   "outputs": [],
   "source": [
    "SEED = 99\n",
    "SAMPLES = 10000\n",
    "N = [25, 50, 100, 150, 200, 250, 300, 350, 400, 450, 500]"
   ]
  },
  {
   "cell_type": "code",
   "execution_count": 14,
   "metadata": {},
   "outputs": [],
   "source": [
    "def generate_row(idx: int, seed: int) -> dict:\n",
    "    rng = np.random.RandomState(seed + idx)\n",
    "    distributions = {\n",
    "        0: generate_normal,\n",
    "        1: generate_skewnormal\n",
    "    }\n",
    "\n",
    "    n = rng.choice(N)\n",
    "    dist_label = int(rng.choice([0, 1]))\n",
    "    gen_func = distributions[dist_label]\n",
    "    \n",
    "    vertices = gen_func(n)\n",
    "    G = build_distance_graph(vertices)\n",
    "    \n",
    "    return {\n",
    "        'n': n,\n",
    "        'distribution': dist_label,\n",
    "        'chromatic_number': chromatic_number(G),\n",
    "        'clique_number': clique_number(G),\n",
    "        'max_independent_set_size': max_independent_set_size(G),\n",
    "        'domination_number': domination_number(G),\n",
    "        'min_clique_cover_size': min_clique_cover_size(G)\n",
    "    }"
   ]
  },
  {
   "cell_type": "code",
   "execution_count": 20,
   "metadata": {},
   "outputs": [],
   "source": [
    "def generate_dataset(num_samples=SAMPLES, seed=SEED):\n",
    "    records = Parallel(n_jobs=-1, verbose=0)(\n",
    "        delayed(generate_row)(i, seed)\n",
    "        for i in tqdm(range(num_samples), desc=\"Generating rows\")\n",
    "    )\n",
    "\n",
    "    df = pd.DataFrame.from_records(records, columns=[\n",
    "        'n', 'distribution',\n",
    "        'chromatic_number', 'clique_number',\n",
    "        'max_independent_set_size',\n",
    "        'domination_number', 'min_clique_cover_size'\n",
    "    ])\n",
    "    df.to_csv('data/distance_graph_dataset_2.csv', index=False)"
   ]
  }
 ],
 "metadata": {
  "kernelspec": {
   "display_name": "Python 3",
   "language": "python",
   "name": "python3"
  },
  "language_info": {
   "codemirror_mode": {
    "name": "ipython",
    "version": 3
   },
   "file_extension": ".py",
   "mimetype": "text/x-python",
   "name": "python",
   "nbconvert_exporter": "python",
   "pygments_lexer": "ipython3",
   "version": "3.12.0"
  }
 },
 "nbformat": 4,
 "nbformat_minor": 2
}
