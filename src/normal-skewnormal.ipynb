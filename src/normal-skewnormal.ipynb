{
  "cells": [
    {
      "cell_type": "markdown",
      "metadata": {
        "id": "WBKDddi-GT6b"
      },
      "source": [
        "# Исследование свойст характеристики"
      ]
    },
    {
      "cell_type": "markdown",
      "metadata": {
        "id": "GRxHvLxqXPkP"
      },
      "source": [
        "## Подготовим вспомогательные инструменты для дальнейших исллдеований"
      ]
    },
    {
      "cell_type": "code",
      "execution_count": 1,
      "metadata": {
        "id": "PCWFZ9Bxg29g"
      },
      "outputs": [],
      "source": [
        "import numpy as np\n",
        "from sklearn.neighbors import NearestNeighbors\n",
        "import networkx as nx"
      ]
    },
    {
      "cell_type": "code",
      "execution_count": 2,
      "metadata": {
        "id": "f0X_A7VrgZmn"
      },
      "outputs": [],
      "source": [
        "SEED = 42"
      ]
    },
    {
      "cell_type": "markdown",
      "metadata": {
        "id": "IKD82Tddg_dJ"
      },
      "source": [
        "Генерация случайных величин, которые имеют распределение $Normal(0,σ)$ и $SkewNormal(α)$"
      ]
    },
    {
      "cell_type": "code",
      "execution_count": 28,
      "metadata": {
        "id": "V9LaF0bTZsJD"
      },
      "outputs": [],
      "source": [
        "from numpy.random import default_rng\n",
        "from scipy.stats import skewnorm\n",
        "\n",
        "rng = default_rng(seed=SEED)"
      ]
    },
    {
      "cell_type": "code",
      "execution_count": 29,
      "metadata": {
        "id": "E5XBho3KgqUG"
      },
      "outputs": [],
      "source": [
        "def generate_normal(n, sigma):\n",
        "  return rng.normal(0, sigma, n)\n",
        "\n",
        "def generate_skewnormal(n, alpha):\n",
        "  return skewnorm.rvs(alpha, size=n)"
      ]
    },
    {
      "cell_type": "markdown",
      "metadata": {
        "id": "L7SQFszCXZXw"
      },
      "source": [
        "**Построение KNN-графа** \\\n",
        "Построим KNN-граф на нашей случайной выборке $\\Xi$"
      ]
    },
    {
      "cell_type": "code",
      "execution_count": 5,
      "metadata": {
        "id": "KH24t6EShwfx"
      },
      "outputs": [],
      "source": [
        "def build_knn_graph(k, vertices):\n",
        "    v = np.asarray(vertices, dtype=float).reshape(-1, 1)\n",
        "    n = v.shape[0]\n",
        "\n",
        "    nbrs = NearestNeighbors(n_neighbors=k+1).fit(v)\n",
        "    distances, indices = nbrs.kneighbors(v)\n",
        "\n",
        "    G = nx.Graph()\n",
        "    G.add_nodes_from(range(n))\n",
        "\n",
        "    for i in range(n):\n",
        "        for j in indices[i][1:]:\n",
        "            G.add_edge(i, j)\n",
        "\n",
        "    return G"
      ]
    },
    {
      "cell_type": "markdown",
      "metadata": {
        "id": "-MGv9OepnCIn"
      },
      "source": [
        "Функция, которая вычисляет число треугольников в графе"
      ]
    },
    {
      "cell_type": "code",
      "execution_count": 6,
      "metadata": {
        "id": "sJR3lO-ckAtG"
      },
      "outputs": [],
      "source": [
        "def count_triangles(G: nx.Graph) -> int:\n",
        "    tr_per_node = nx.triangles(G)\n",
        "    total_trs = sum(tr_per_node.values()) // 3\n",
        "    return total_trs"
      ]
    },
    {
      "cell_type": "markdown",
      "metadata": {
        "id": "MFHbddiymN-j"
      },
      "source": [
        "**Построение дистанционного графа** \\\n",
        "Построим дистанционный граф на нашей случайной выборке $\\Xi$"
      ]
    },
    {
      "cell_type": "code",
      "execution_count": 13,
      "metadata": {
        "id": "r2T5alXNnR8k"
      },
      "outputs": [],
      "source": [
        "def build_distance_graph(d, vertices):\n",
        "    v = np.asarray(vertices)\n",
        "    n = v.size\n",
        "\n",
        "    G = nx.Graph()\n",
        "    G.add_nodes_from(range(n))\n",
        "\n",
        "    for i in range(n):\n",
        "        for j in range(i+1, n):\n",
        "            if abs(v[i] - v[j]) <= d:\n",
        "                G.add_edge(i, j)\n",
        "\n",
        "    return G"
      ]
    },
    {
      "cell_type": "markdown",
      "metadata": {
        "id": "tnEyjgoRq8fj"
      },
      "source": [
        "Функция, которая вычисляет хроматическое число графа"
      ]
    },
    {
      "cell_type": "code",
      "execution_count": 14,
      "metadata": {
        "id": "7Z2q20kiq8PL"
      },
      "outputs": [],
      "source": [
        "def chromatic_number(G: nx.Graph) -> int:\n",
        "    if len(G) == 0:\n",
        "        return 0\n",
        "    if G.number_of_edges() == 0:\n",
        "        return 1\n",
        "    coloring = nx.coloring.greedy_color(G, strategy=\"DSATUR\")\n",
        "    return max(coloring.values()) + 1"
      ]
    },
    {
      "cell_type": "markdown",
      "metadata": {
        "id": "G-b-WOTRLG1-"
      },
      "source": [
        "**метод Монте-Карло**"
      ]
    },
    {
      "cell_type": "code",
      "execution_count": 15,
      "metadata": {
        "id": "SM0GLSkMLGS1"
      },
      "outputs": [],
      "source": [
        "def monte_carlo(M, n, param, graph_param, gen_func, graph_func, res_func):\n",
        "  results = []\n",
        "  for _ in range(M):\n",
        "    vertices = gen_func(n, param)\n",
        "    G = graph_func(graph_param, vertices)\n",
        "    results.append(res_func(G))\n",
        "  return results"
      ]
    },
    {
      "cell_type": "markdown",
      "metadata": {
        "id": "E1yl3Q0eV11B"
      },
      "source": [
        "## Исследуем, как ведет себя $Τ$ в зависимости от параметров процедуры построения графа и размера выборки"
      ]
    },
    {
      "cell_type": "markdown",
      "metadata": {
        "id": "l1NO9Ul0s9_W"
      },
      "source": [
        "Зафиксируем параметры распределения:\n",
        "* $Normal(0,σ)$, $\\; \\sigma_0 = 1$\n",
        "* $SkewNormal(α)$, $\\; \\alpha_0 = 1$"
      ]
    },
    {
      "cell_type": "code",
      "execution_count": 16,
      "metadata": {
        "id": "gH13xxfxYDhs"
      },
      "outputs": [],
      "source": [
        "import math\n",
        "\n",
        "sigma0 = 1\n",
        "alpha0 = 1"
      ]
    },
    {
      "cell_type": "markdown",
      "metadata": {
        "id": "9QVduVwLLpPy"
      },
      "source": [
        "#### Исследуем KNN-граф"
      ]
    },
    {
      "cell_type": "code",
      "execution_count": 23,
      "metadata": {
        "id": "u3v41RMQZgwD"
      },
      "outputs": [],
      "source": [
        "M = 500\n",
        "n_array = [100, 200, 300, 400, 500]\n",
        "k_array = [2, 4, 7, 8, 9, 10]"
      ]
    },
    {
      "cell_type": "markdown",
      "metadata": {
        "id": "6VLg4lmEZKKz"
      },
      "source": [
        "Для $Normal(0,σ_0)$"
      ]
    },
    {
      "cell_type": "code",
      "execution_count": 24,
      "metadata": {
        "collapsed": true,
        "id": "FqzIR_2iN4Gi"
      },
      "outputs": [
        {
          "name": "stdout",
          "output_type": "stream",
          "text": [
            "n=100, k=2 -> mean = 39.9980, var = 11.1723, 95% CI = (39.7050, 40.2910)\n",
            "n=100, k=4 -> mean = 220.9980, var = 141.6493, 95% CI = (219.9548, 222.0412)\n",
            "n=100, k=7 -> mean = 750.9200, var = 1177.5006, 95% CI = (747.9122, 753.9278)\n",
            "n=100, k=8 -> mean = 994.8460, var = 1973.6135, 95% CI = (990.9519, 998.7401)\n",
            "n=100, k=9 -> mean = 1281.9980, var = 3359.9940, 95% CI = (1276.9171, 1287.0789)\n",
            "n=100, k=10 -> mean = 1603.9000, var = 4374.5711, 95% CI = (1598.1025, 1609.6975)\n",
            "n=200, k=2 -> mean = 78.9740, var = 18.8711, 95% CI = (78.5932, 79.3548)\n",
            "n=200, k=4 -> mean = 431.6500, var = 329.7751, 95% CI = (430.0582, 433.2418)\n",
            "n=200, k=7 -> mean = 1442.7920, var = 2403.9847, 95% CI = (1438.4943, 1447.0897)\n",
            "n=200, k=8 -> mean = 1904.6960, var = 3789.6950, 95% CI = (1899.3000, 1910.0920)\n",
            "n=200, k=9 -> mean = 2437.3520, var = 6647.2105, 95% CI = (2430.2055, 2444.4985)\n",
            "n=200, k=10 -> mean = 3037.9700, var = 10144.7065, 95% CI = (3029.1414, 3046.7986)\n",
            "n=300, k=2 -> mean = 117.9520, var = 32.5588, 95% CI = (117.4518, 118.4522)\n",
            "n=300, k=4 -> mean = 640.8920, var = 476.0404, 95% CI = (638.9795, 642.8045)\n",
            "n=300, k=7 -> mean = 2120.0160, var = 3741.0378, 95% CI = (2114.6547, 2125.3773)\n",
            "n=300, k=8 -> mean = 2803.2900, var = 6074.5229, 95% CI = (2796.4583, 2810.1217)\n",
            "n=300, k=9 -> mean = 3566.8760, var = 9457.2110, 95% CI = (3558.3518, 3575.4002)\n",
            "n=300, k=10 -> mean = 4444.4060, var = 13645.8128, 95% CI = (4434.1667, 4454.6453)\n",
            "n=400, k=2 -> mean = 156.6440, var = 39.8289, 95% CI = (156.0908, 157.1972)\n",
            "n=400, k=4 -> mean = 848.0420, var = 641.5674, 95% CI = (845.8218, 850.2622)\n",
            "n=400, k=7 -> mean = 2806.0320, var = 4961.3577, 95% CI = (2799.8579, 2812.2061)\n",
            "n=400, k=8 -> mean = 3698.1380, var = 8137.2815, 95% CI = (3690.2310, 3706.0450)\n",
            "n=400, k=9 -> mean = 4718.8440, var = 12637.0778, 95% CI = (4708.9904, 4728.6976)\n",
            "n=400, k=10 -> mean = 5862.6360, var = 18220.6608, 95% CI = (5850.8041, 5874.4679)\n",
            "n=500, k=2 -> mean = 195.8860, var = 48.3617, 95% CI = (195.2764, 196.4956)\n",
            "n=500, k=4 -> mean = 1059.1880, var = 700.9025, 95% CI = (1056.8674, 1061.5086)\n",
            "n=500, k=7 -> mean = 3490.6660, var = 6145.3572, 95% CI = (3483.7946, 3497.5374)\n",
            "n=500, k=8 -> mean = 4603.4580, var = 9690.1205, 95% CI = (4594.8295, 4612.0865)\n",
            "n=500, k=9 -> mean = 5864.4460, var = 16928.7406, 95% CI = (5853.0413, 5875.8507)\n",
            "n=500, k=10 -> mean = 7273.2020, var = 25256.2457, 95% CI = (7259.2719, 7287.1321)\n"
          ]
        }
      ],
      "source": [
        "for n in n_array:\n",
        "    for k in k_array:\n",
        "        if k >= n:\n",
        "            continue\n",
        "        results = monte_carlo(M, n, sigma0, k, generate_normal, build_knn_graph, count_triangles)\n",
        "        mean_val = np.mean(results)\n",
        "        var_val = np.var(results, ddof=1)\n",
        "        std_val = math.sqrt(var_val)\n",
        "        se = std_val / math.sqrt(M)\n",
        "        ci_lower = mean_val - 1.96 * se\n",
        "        ci_upper = mean_val + 1.96 * se\n",
        "\n",
        "        print(f\"n={n}, k={k} -> mean = {mean_val:.4f}, var = {var_val:.4f}, 95% CI = ({ci_lower:.4f}, {ci_upper:.4f})\")"
      ]
    },
    {
      "cell_type": "markdown",
      "metadata": {
        "id": "WLKGjQeSZcQC"
      },
      "source": [
        "Для $SkewNormal(α_0)$"
      ]
    },
    {
      "cell_type": "code",
      "execution_count": 30,
      "metadata": {
        "id": "TITWPuhwZuef"
      },
      "outputs": [
        {
          "name": "stdout",
          "output_type": "stream",
          "text": [
            "n=100, k=2 -> mean = 3.0000, var = 0.0000, 95% CI = (3.0000, 3.0000)\n",
            "n=100, k=4 -> mean = 5.0000, var = 0.0000, 95% CI = (5.0000, 5.0000)\n",
            "n=100, k=7 -> mean = 8.0000, var = 0.0000, 95% CI = (8.0000, 8.0000)\n",
            "n=100, k=8 -> mean = 9.0000, var = 0.0000, 95% CI = (9.0000, 9.0000)\n",
            "n=100, k=9 -> mean = 10.0000, var = 0.0000, 95% CI = (10.0000, 10.0000)\n",
            "n=100, k=10 -> mean = 11.0000, var = 0.0000, 95% CI = (11.0000, 11.0000)\n",
            "n=200, k=2 -> mean = 3.0000, var = 0.0000, 95% CI = (3.0000, 3.0000)\n"
          ]
        },
        {
          "ename": "KeyboardInterrupt",
          "evalue": "",
          "output_type": "error",
          "traceback": [
            "\u001b[0;31m---------------------------------------------------------------------------\u001b[0m",
            "\u001b[0;31mKeyboardInterrupt\u001b[0m                         Traceback (most recent call last)",
            "Cell \u001b[0;32mIn[30], line 5\u001b[0m\n\u001b[1;32m      3\u001b[0m \u001b[38;5;28;01mif\u001b[39;00m k \u001b[38;5;241m>\u001b[39m\u001b[38;5;241m=\u001b[39m n:\n\u001b[1;32m      4\u001b[0m   \u001b[38;5;28;01mcontinue\u001b[39;00m\n\u001b[0;32m----> 5\u001b[0m results \u001b[38;5;241m=\u001b[39m \u001b[43mmonte_carlo\u001b[49m\u001b[43m(\u001b[49m\u001b[43mM\u001b[49m\u001b[43m,\u001b[49m\u001b[43m \u001b[49m\u001b[43mn\u001b[49m\u001b[43m,\u001b[49m\u001b[43m \u001b[49m\u001b[43malpha0\u001b[49m\u001b[43m,\u001b[49m\u001b[43m \u001b[49m\u001b[43mk\u001b[49m\u001b[43m,\u001b[49m\u001b[43m \u001b[49m\u001b[43mgenerate_skewnormal\u001b[49m\u001b[43m,\u001b[49m\u001b[43m \u001b[49m\u001b[43mbuild_knn_graph\u001b[49m\u001b[43m,\u001b[49m\u001b[43m \u001b[49m\u001b[43mchromatic_number\u001b[49m\u001b[43m)\u001b[49m\n\u001b[1;32m      6\u001b[0m mean_val \u001b[38;5;241m=\u001b[39m np\u001b[38;5;241m.\u001b[39mmean(results)\n\u001b[1;32m      7\u001b[0m var_val \u001b[38;5;241m=\u001b[39m np\u001b[38;5;241m.\u001b[39mvar(results, ddof\u001b[38;5;241m=\u001b[39m\u001b[38;5;241m1\u001b[39m)\n",
            "Cell \u001b[0;32mIn[15], line 6\u001b[0m, in \u001b[0;36mmonte_carlo\u001b[0;34m(M, n, param, graph_param, gen_func, graph_func, res_func)\u001b[0m\n\u001b[1;32m      4\u001b[0m   vertices \u001b[38;5;241m=\u001b[39m gen_func(n, param)\n\u001b[1;32m      5\u001b[0m   G \u001b[38;5;241m=\u001b[39m graph_func(graph_param, vertices)\n\u001b[0;32m----> 6\u001b[0m   results\u001b[38;5;241m.\u001b[39mappend(\u001b[43mres_func\u001b[49m\u001b[43m(\u001b[49m\u001b[43mG\u001b[49m\u001b[43m)\u001b[49m)\n\u001b[1;32m      7\u001b[0m \u001b[38;5;28;01mreturn\u001b[39;00m results\n",
            "Cell \u001b[0;32mIn[14], line 6\u001b[0m, in \u001b[0;36mchromatic_number\u001b[0;34m(G)\u001b[0m\n\u001b[1;32m      4\u001b[0m \u001b[38;5;28;01mif\u001b[39;00m G\u001b[38;5;241m.\u001b[39mnumber_of_edges() \u001b[38;5;241m==\u001b[39m \u001b[38;5;241m0\u001b[39m:\n\u001b[1;32m      5\u001b[0m     \u001b[38;5;28;01mreturn\u001b[39;00m \u001b[38;5;241m1\u001b[39m\n\u001b[0;32m----> 6\u001b[0m coloring \u001b[38;5;241m=\u001b[39m \u001b[43mnx\u001b[49m\u001b[38;5;241;43m.\u001b[39;49m\u001b[43mcoloring\u001b[49m\u001b[38;5;241;43m.\u001b[39;49m\u001b[43mgreedy_color\u001b[49m\u001b[43m(\u001b[49m\u001b[43mG\u001b[49m\u001b[43m,\u001b[49m\u001b[43m \u001b[49m\u001b[43mstrategy\u001b[49m\u001b[38;5;241;43m=\u001b[39;49m\u001b[38;5;124;43m\"\u001b[39;49m\u001b[38;5;124;43mDSATUR\u001b[39;49m\u001b[38;5;124;43m\"\u001b[39;49m\u001b[43m)\u001b[49m\n\u001b[1;32m      7\u001b[0m \u001b[38;5;28;01mreturn\u001b[39;00m \u001b[38;5;28mmax\u001b[39m(coloring\u001b[38;5;241m.\u001b[39mvalues()) \u001b[38;5;241m+\u001b[39m \u001b[38;5;241m1\u001b[39m\n",
            "File \u001b[0;32m<class 'networkx.utils.decorators.argmap'> compilation 9:3\u001b[0m, in \u001b[0;36margmap_greedy_color_6\u001b[0;34m(G, strategy, interchange, backend, **backend_kwargs)\u001b[0m\n\u001b[1;32m      1\u001b[0m \u001b[38;5;28;01mimport\u001b[39;00m \u001b[38;5;21;01mbz2\u001b[39;00m\n\u001b[1;32m      2\u001b[0m \u001b[38;5;28;01mimport\u001b[39;00m \u001b[38;5;21;01mcollections\u001b[39;00m\n\u001b[0;32m----> 3\u001b[0m \u001b[38;5;28;01mimport\u001b[39;00m \u001b[38;5;21;01mgzip\u001b[39;00m\n\u001b[1;32m      4\u001b[0m \u001b[38;5;28;01mimport\u001b[39;00m \u001b[38;5;21;01minspect\u001b[39;00m\n\u001b[1;32m      5\u001b[0m \u001b[38;5;28;01mimport\u001b[39;00m \u001b[38;5;21;01mitertools\u001b[39;00m\n",
            "File \u001b[0;32m/Library/Frameworks/Python.framework/Versions/3.12/lib/python3.12/site-packages/networkx/utils/backends.py:633\u001b[0m, in \u001b[0;36m_dispatchable.__call__\u001b[0;34m(self, backend, *args, **kwargs)\u001b[0m\n\u001b[1;32m    628\u001b[0m \u001b[38;5;250m\u001b[39m\u001b[38;5;124;03m\"\"\"Returns the result of the original function, or the backend function if\u001b[39;00m\n\u001b[1;32m    629\u001b[0m \u001b[38;5;124;03mthe backend is specified and that backend implements `func`.\"\"\"\u001b[39;00m\n\u001b[1;32m    631\u001b[0m \u001b[38;5;28;01mif\u001b[39;00m \u001b[38;5;129;01mnot\u001b[39;00m backends:\n\u001b[1;32m    632\u001b[0m     \u001b[38;5;66;03m# Fast path if no backends are installed\u001b[39;00m\n\u001b[0;32m--> 633\u001b[0m     \u001b[38;5;28;01mreturn\u001b[39;00m \u001b[38;5;28;43mself\u001b[39;49m\u001b[38;5;241;43m.\u001b[39;49m\u001b[43morig_func\u001b[49m\u001b[43m(\u001b[49m\u001b[38;5;241;43m*\u001b[39;49m\u001b[43margs\u001b[49m\u001b[43m,\u001b[49m\u001b[43m \u001b[49m\u001b[38;5;241;43m*\u001b[39;49m\u001b[38;5;241;43m*\u001b[39;49m\u001b[43mkwargs\u001b[49m\u001b[43m)\u001b[49m\n\u001b[1;32m    635\u001b[0m \u001b[38;5;66;03m# Use `backend_name` in this function instead of `backend`\u001b[39;00m\n\u001b[1;32m    636\u001b[0m backend_name \u001b[38;5;241m=\u001b[39m backend\n",
            "File \u001b[0;32m/Library/Frameworks/Python.framework/Versions/3.12/lib/python3.12/site-packages/networkx/algorithms/coloring/greedy_coloring.py:365\u001b[0m, in \u001b[0;36mgreedy_color\u001b[0;34m(G, strategy, interchange)\u001b[0m\n\u001b[1;32m    363\u001b[0m \u001b[38;5;28;01mif\u001b[39;00m interchange:\n\u001b[1;32m    364\u001b[0m     \u001b[38;5;28;01mreturn\u001b[39;00m _greedy_coloring_with_interchange(G, nodes)\n\u001b[0;32m--> 365\u001b[0m \u001b[43m\u001b[49m\u001b[38;5;28;43;01mfor\u001b[39;49;00m\u001b[43m \u001b[49m\u001b[43mu\u001b[49m\u001b[43m \u001b[49m\u001b[38;5;129;43;01min\u001b[39;49;00m\u001b[43m \u001b[49m\u001b[43mnodes\u001b[49m\u001b[43m:\u001b[49m\n\u001b[1;32m    366\u001b[0m \u001b[43m    \u001b[49m\u001b[38;5;66;43;03m# Set to keep track of colors of neighbors\u001b[39;49;00m\n\u001b[1;32m    367\u001b[0m \u001b[43m    \u001b[49m\u001b[43mnbr_colors\u001b[49m\u001b[43m \u001b[49m\u001b[38;5;241;43m=\u001b[39;49m\u001b[43m \u001b[49m\u001b[43m{\u001b[49m\u001b[43mcolors\u001b[49m\u001b[43m[\u001b[49m\u001b[43mv\u001b[49m\u001b[43m]\u001b[49m\u001b[43m \u001b[49m\u001b[38;5;28;43;01mfor\u001b[39;49;00m\u001b[43m \u001b[49m\u001b[43mv\u001b[49m\u001b[43m \u001b[49m\u001b[38;5;129;43;01min\u001b[39;49;00m\u001b[43m \u001b[49m\u001b[43mG\u001b[49m\u001b[43m[\u001b[49m\u001b[43mu\u001b[49m\u001b[43m]\u001b[49m\u001b[43m \u001b[49m\u001b[38;5;28;43;01mif\u001b[39;49;00m\u001b[43m \u001b[49m\u001b[43mv\u001b[49m\u001b[43m \u001b[49m\u001b[38;5;129;43;01min\u001b[39;49;00m\u001b[43m \u001b[49m\u001b[43mcolors\u001b[49m\u001b[43m}\u001b[49m\n\u001b[1;32m    368\u001b[0m \u001b[43m    \u001b[49m\u001b[38;5;66;43;03m# Find the first unused color.\u001b[39;49;00m\n",
            "File \u001b[0;32m/Library/Frameworks/Python.framework/Versions/3.12/lib/python3.12/site-packages/networkx/algorithms/coloring/greedy_coloring.py:246\u001b[0m, in \u001b[0;36mstrategy_saturation_largest_first\u001b[0;34m(G, colors)\u001b[0m\n\u001b[1;32m    243\u001b[0m saturation \u001b[38;5;241m=\u001b[39m {v: \u001b[38;5;28mlen\u001b[39m(c) \u001b[38;5;28;01mfor\u001b[39;00m v, c \u001b[38;5;129;01min\u001b[39;00m distinct_colors\u001b[38;5;241m.\u001b[39mitems() \u001b[38;5;28;01mif\u001b[39;00m v \u001b[38;5;129;01mnot\u001b[39;00m \u001b[38;5;129;01min\u001b[39;00m colors}\n\u001b[1;32m    244\u001b[0m \u001b[38;5;66;03m# Yield the node with the highest saturation, and break ties by\u001b[39;00m\n\u001b[1;32m    245\u001b[0m \u001b[38;5;66;03m# degree.\u001b[39;00m\n\u001b[0;32m--> 246\u001b[0m node \u001b[38;5;241m=\u001b[39m \u001b[38;5;28;43mmax\u001b[39;49m\u001b[43m(\u001b[49m\u001b[43msaturation\u001b[49m\u001b[43m,\u001b[49m\u001b[43m \u001b[49m\u001b[43mkey\u001b[49m\u001b[38;5;241;43m=\u001b[39;49m\u001b[38;5;28;43;01mlambda\u001b[39;49;00m\u001b[43m \u001b[49m\u001b[43mv\u001b[49m\u001b[43m:\u001b[49m\u001b[43m \u001b[49m\u001b[43m(\u001b[49m\u001b[43msaturation\u001b[49m\u001b[43m[\u001b[49m\u001b[43mv\u001b[49m\u001b[43m]\u001b[49m\u001b[43m,\u001b[49m\u001b[43m \u001b[49m\u001b[43mG\u001b[49m\u001b[38;5;241;43m.\u001b[39;49m\u001b[43mdegree\u001b[49m\u001b[43m(\u001b[49m\u001b[43mv\u001b[49m\u001b[43m)\u001b[49m\u001b[43m)\u001b[49m\u001b[43m)\u001b[49m\n\u001b[1;32m    247\u001b[0m \u001b[38;5;28;01myield\u001b[39;00m node\n",
            "File \u001b[0;32m/Library/Frameworks/Python.framework/Versions/3.12/lib/python3.12/site-packages/networkx/algorithms/coloring/greedy_coloring.py:246\u001b[0m, in \u001b[0;36mstrategy_saturation_largest_first.<locals>.<lambda>\u001b[0;34m(v)\u001b[0m\n\u001b[1;32m    243\u001b[0m saturation \u001b[38;5;241m=\u001b[39m {v: \u001b[38;5;28mlen\u001b[39m(c) \u001b[38;5;28;01mfor\u001b[39;00m v, c \u001b[38;5;129;01min\u001b[39;00m distinct_colors\u001b[38;5;241m.\u001b[39mitems() \u001b[38;5;28;01mif\u001b[39;00m v \u001b[38;5;129;01mnot\u001b[39;00m \u001b[38;5;129;01min\u001b[39;00m colors}\n\u001b[1;32m    244\u001b[0m \u001b[38;5;66;03m# Yield the node with the highest saturation, and break ties by\u001b[39;00m\n\u001b[1;32m    245\u001b[0m \u001b[38;5;66;03m# degree.\u001b[39;00m\n\u001b[0;32m--> 246\u001b[0m node \u001b[38;5;241m=\u001b[39m \u001b[38;5;28mmax\u001b[39m(saturation, key\u001b[38;5;241m=\u001b[39m\u001b[38;5;28;01mlambda\u001b[39;00m v: (saturation[v], \u001b[43mG\u001b[49m\u001b[38;5;241;43m.\u001b[39;49m\u001b[43mdegree\u001b[49m\u001b[43m(\u001b[49m\u001b[43mv\u001b[49m\u001b[43m)\u001b[49m))\n\u001b[1;32m    247\u001b[0m \u001b[38;5;28;01myield\u001b[39;00m node\n",
            "File \u001b[0;32m/Library/Frameworks/Python.framework/Versions/3.12/lib/python3.12/site-packages/networkx/classes/reportviews.py:434\u001b[0m, in \u001b[0;36mDiDegreeView.__call__\u001b[0;34m(self, nbunch, weight)\u001b[0m\n\u001b[1;32m    432\u001b[0m     \u001b[38;5;28;01mif\u001b[39;00m nbunch \u001b[38;5;129;01min\u001b[39;00m \u001b[38;5;28mself\u001b[39m\u001b[38;5;241m.\u001b[39m_nodes:\n\u001b[1;32m    433\u001b[0m         \u001b[38;5;28;01mif\u001b[39;00m weight \u001b[38;5;241m==\u001b[39m \u001b[38;5;28mself\u001b[39m\u001b[38;5;241m.\u001b[39m_weight:\n\u001b[0;32m--> 434\u001b[0m             \u001b[38;5;28;01mreturn\u001b[39;00m \u001b[38;5;28;43mself\u001b[39;49m\u001b[43m[\u001b[49m\u001b[43mnbunch\u001b[49m\u001b[43m]\u001b[49m\n\u001b[1;32m    435\u001b[0m         \u001b[38;5;28;01mreturn\u001b[39;00m \u001b[38;5;28mself\u001b[39m\u001b[38;5;241m.\u001b[39m\u001b[38;5;18m__class__\u001b[39m(\u001b[38;5;28mself\u001b[39m\u001b[38;5;241m.\u001b[39m_graph, \u001b[38;5;28;01mNone\u001b[39;00m, weight)[nbunch]\n\u001b[1;32m    436\u001b[0m \u001b[38;5;28;01mexcept\u001b[39;00m \u001b[38;5;167;01mTypeError\u001b[39;00m:\n",
            "File \u001b[0;32m/Library/Frameworks/Python.framework/Versions/3.12/lib/python3.12/site-packages/networkx/classes/reportviews.py:520\u001b[0m, in \u001b[0;36mDegreeView.__getitem__\u001b[0;34m(self, n)\u001b[0m\n\u001b[1;32m    476\u001b[0m \u001b[38;5;28;01mclass\u001b[39;00m \u001b[38;5;21;01mDegreeView\u001b[39;00m(DiDegreeView):\n\u001b[1;32m    477\u001b[0m \u001b[38;5;250m    \u001b[39m\u001b[38;5;124;03m\"\"\"A DegreeView class to act as G.degree for a NetworkX Graph\u001b[39;00m\n\u001b[1;32m    478\u001b[0m \n\u001b[1;32m    479\u001b[0m \u001b[38;5;124;03m    Typical usage focuses on iteration over `(node, degree)` pairs.\u001b[39;00m\n\u001b[0;32m   (...)\u001b[0m\n\u001b[1;32m    517\u001b[0m \u001b[38;5;124;03m    >>> assert len(list(DVnbunch)) == 2  # iteration over nbunch only\u001b[39;00m\n\u001b[1;32m    518\u001b[0m \u001b[38;5;124;03m    \"\"\"\u001b[39;00m\n\u001b[0;32m--> 520\u001b[0m     \u001b[38;5;28;01mdef\u001b[39;00m \u001b[38;5;21m__getitem__\u001b[39m(\u001b[38;5;28mself\u001b[39m, n):\n\u001b[1;32m    521\u001b[0m         weight \u001b[38;5;241m=\u001b[39m \u001b[38;5;28mself\u001b[39m\u001b[38;5;241m.\u001b[39m_weight\n\u001b[1;32m    522\u001b[0m         nbrs \u001b[38;5;241m=\u001b[39m \u001b[38;5;28mself\u001b[39m\u001b[38;5;241m.\u001b[39m_succ[n]\n",
            "\u001b[0;31mKeyboardInterrupt\u001b[0m: "
          ]
        }
      ],
      "source": [
        "for n in n_array:\n",
        "    for k in k_array:\n",
        "        if k >= n:\n",
        "          continue\n",
        "        results = monte_carlo(M, n, alpha0, k, generate_skewnormal, build_knn_graph, chromatic_number)\n",
        "        mean_val = np.mean(results)\n",
        "        var_val = np.var(results, ddof=1)\n",
        "        std_val = math.sqrt(var_val)\n",
        "        se = std_val / math.sqrt(M)\n",
        "        ci_lower = mean_val - 1.96 * se\n",
        "        ci_upper = mean_val + 1.96 * se\n",
        "\n",
        "        print(f\"n={n}, k={k} -> mean = {mean_val:.4f}, var = {var_val:.4f}, 95% CI = ({ci_lower:.4f}, {ci_upper:.4f})\")"
      ]
    },
    {
      "cell_type": "markdown",
      "metadata": {
        "id": "GQt_nfDTbLQP"
      },
      "source": [
        "#### Исследуем дистанционный-граф"
      ]
    },
    {
      "cell_type": "code",
      "execution_count": 31,
      "metadata": {
        "id": "iPuoZbC-bUeF"
      },
      "outputs": [],
      "source": [
        "d_array = [\n",
        "    [0.0605, 0.1210, 0.2420],\n",
        "    [0.0315, 0.0629, 0.1258],\n",
        "    [0.0235, 0.0469, 0.0938],\n",
        "    [0.0116, 0.0233, 0.0466],\n",
        "    [0.0086, 0.0171, 0.0342]\n",
        "]"
      ]
    },
    {
      "cell_type": "markdown",
      "metadata": {
        "id": "-fVj_2AYbiN9"
      },
      "source": [
        "Для $Normal(0,σ_0)$"
      ]
    },
    {
      "cell_type": "code",
      "execution_count": 32,
      "metadata": {
        "colab": {
          "base_uri": "https://localhost:8080/",
          "height": 443
        },
        "id": "RprcalE9bbZj",
        "outputId": "c7052821-448a-4d2c-9c28-e2ebb5d35027"
      },
      "outputs": [
        {
          "name": "stdout",
          "output_type": "stream",
          "text": [
            "n=100, d=0.0605 -> mean = 220.1220, var = 156.4681, 95% CI = (219.0256, 221.2184)\n",
            "n=100, d=0.121 -> mean = 221.2280, var = 148.7295, 95% CI = (220.1590, 222.2970)\n",
            "n=100, d=0.242 -> mean = 221.6000, var = 166.6493, 95% CI = (220.4685, 222.7315)\n",
            "n=200, d=0.0315 -> mean = 431.0660, var = 341.3924, 95% CI = (429.4464, 432.6856)\n",
            "n=200, d=0.0629 -> mean = 430.2340, var = 304.9972, 95% CI = (428.7032, 431.7648)\n",
            "n=200, d=0.1258 -> mean = 430.2340, var = 311.7107, 95% CI = (428.6864, 431.7816)\n",
            "n=300, d=0.0235 -> mean = 640.9800, var = 458.1960, 95% CI = (639.1037, 642.8563)\n",
            "n=300, d=0.0469 -> mean = 638.6720, var = 508.8501, 95% CI = (636.6947, 640.6493)\n",
            "n=300, d=0.0938 -> mean = 639.1100, var = 476.3666, 95% CI = (637.1969, 641.0231)\n",
            "n=400, d=0.0116 -> mean = 850.6380, var = 651.7224, 95% CI = (848.4003, 852.8757)\n",
            "n=400, d=0.0233 -> mean = 849.7300, var = 567.2316, 95% CI = (847.6424, 851.8176)\n",
            "n=400, d=0.0466 -> mean = 850.8940, var = 593.6340, 95% CI = (848.7583, 853.0297)\n",
            "n=500, d=0.0086 -> mean = 1059.5520, var = 810.3961, 95% CI = (1057.0567, 1062.0473)\n",
            "n=500, d=0.0171 -> mean = 1058.9920, var = 857.3346, 95% CI = (1056.4255, 1061.5585)\n",
            "n=500, d=0.0342 -> mean = 1060.4960, var = 823.7174, 95% CI = (1057.9803, 1063.0117)\n"
          ]
        }
      ],
      "source": [
        "for i, n in enumerate(n_array):\n",
        "    for d in d_array[i]:\n",
        "        results = monte_carlo(M, n, sigma0, k, generate_normal, build_knn_graph, count_triangles)\n",
        "        mean_val = np.mean(results)\n",
        "        var_val = np.var(results, ddof=1)\n",
        "        std_val = math.sqrt(var_val)\n",
        "        se = std_val / math.sqrt(M)\n",
        "        ci_lower = mean_val - 1.96 * se\n",
        "        ci_upper = mean_val + 1.96 * se\n",
        "\n",
        "        print(f\"n={n}, d={d} -> mean = {mean_val:.4f}, var = {var_val:.4f}, 95% CI = ({ci_lower:.4f}, {ci_upper:.4f})\")"
      ]
    },
    {
      "cell_type": "markdown",
      "metadata": {
        "id": "Ni79phoSbe_Q"
      },
      "source": [
        "Для $SkewNormal(α_0)$"
      ]
    },
    {
      "cell_type": "code",
      "execution_count": 33,
      "metadata": {
        "id": "JdlnkM2ybdRF"
      },
      "outputs": [
        {
          "name": "stdout",
          "output_type": "stream",
          "text": [
            "n=100, d=0.0605 -> mean = 5.0000, var = 0.0000, 95% CI = (5.0000, 5.0000)\n",
            "n=100, d=0.121 -> mean = 5.0000, var = 0.0000, 95% CI = (5.0000, 5.0000)\n",
            "n=100, d=0.242 -> mean = 5.0000, var = 0.0000, 95% CI = (5.0000, 5.0000)\n",
            "n=200, d=0.0315 -> mean = 5.0000, var = 0.0000, 95% CI = (5.0000, 5.0000)\n",
            "n=200, d=0.0629 -> mean = 5.0000, var = 0.0000, 95% CI = (5.0000, 5.0000)\n",
            "n=200, d=0.1258 -> mean = 5.0000, var = 0.0000, 95% CI = (5.0000, 5.0000)\n",
            "n=300, d=0.0235 -> mean = 5.0000, var = 0.0000, 95% CI = (5.0000, 5.0000)\n",
            "n=300, d=0.0469 -> mean = 5.0000, var = 0.0000, 95% CI = (5.0000, 5.0000)\n",
            "n=300, d=0.0938 -> mean = 5.0000, var = 0.0000, 95% CI = (5.0000, 5.0000)\n"
          ]
        },
        {
          "ename": "KeyboardInterrupt",
          "evalue": "",
          "output_type": "error",
          "traceback": [
            "\u001b[0;31m---------------------------------------------------------------------------\u001b[0m",
            "\u001b[0;31mKeyboardInterrupt\u001b[0m                         Traceback (most recent call last)",
            "Cell \u001b[0;32mIn[33], line 3\u001b[0m\n\u001b[1;32m      1\u001b[0m \u001b[38;5;28;01mfor\u001b[39;00m i, n \u001b[38;5;129;01min\u001b[39;00m \u001b[38;5;28menumerate\u001b[39m(n_array):\n\u001b[1;32m      2\u001b[0m     \u001b[38;5;28;01mfor\u001b[39;00m d \u001b[38;5;129;01min\u001b[39;00m d_array[i]:\n\u001b[0;32m----> 3\u001b[0m         results \u001b[38;5;241m=\u001b[39m \u001b[43mmonte_carlo\u001b[49m\u001b[43m(\u001b[49m\u001b[43mM\u001b[49m\u001b[43m,\u001b[49m\u001b[43m \u001b[49m\u001b[43mn\u001b[49m\u001b[43m,\u001b[49m\u001b[43m \u001b[49m\u001b[43malpha0\u001b[49m\u001b[43m,\u001b[49m\u001b[43m \u001b[49m\u001b[43mk\u001b[49m\u001b[43m,\u001b[49m\u001b[43m \u001b[49m\u001b[43mgenerate_skewnormal\u001b[49m\u001b[43m,\u001b[49m\u001b[43m \u001b[49m\u001b[43mbuild_knn_graph\u001b[49m\u001b[43m,\u001b[49m\u001b[43m \u001b[49m\u001b[43mchromatic_number\u001b[49m\u001b[43m)\u001b[49m\n\u001b[1;32m      4\u001b[0m         mean_val \u001b[38;5;241m=\u001b[39m np\u001b[38;5;241m.\u001b[39mmean(results)\n\u001b[1;32m      5\u001b[0m         var_val \u001b[38;5;241m=\u001b[39m np\u001b[38;5;241m.\u001b[39mvar(results, ddof\u001b[38;5;241m=\u001b[39m\u001b[38;5;241m1\u001b[39m)\n",
            "Cell \u001b[0;32mIn[15], line 6\u001b[0m, in \u001b[0;36mmonte_carlo\u001b[0;34m(M, n, param, graph_param, gen_func, graph_func, res_func)\u001b[0m\n\u001b[1;32m      4\u001b[0m   vertices \u001b[38;5;241m=\u001b[39m gen_func(n, param)\n\u001b[1;32m      5\u001b[0m   G \u001b[38;5;241m=\u001b[39m graph_func(graph_param, vertices)\n\u001b[0;32m----> 6\u001b[0m   results\u001b[38;5;241m.\u001b[39mappend(\u001b[43mres_func\u001b[49m\u001b[43m(\u001b[49m\u001b[43mG\u001b[49m\u001b[43m)\u001b[49m)\n\u001b[1;32m      7\u001b[0m \u001b[38;5;28;01mreturn\u001b[39;00m results\n",
            "Cell \u001b[0;32mIn[14], line 6\u001b[0m, in \u001b[0;36mchromatic_number\u001b[0;34m(G)\u001b[0m\n\u001b[1;32m      4\u001b[0m \u001b[38;5;28;01mif\u001b[39;00m G\u001b[38;5;241m.\u001b[39mnumber_of_edges() \u001b[38;5;241m==\u001b[39m \u001b[38;5;241m0\u001b[39m:\n\u001b[1;32m      5\u001b[0m     \u001b[38;5;28;01mreturn\u001b[39;00m \u001b[38;5;241m1\u001b[39m\n\u001b[0;32m----> 6\u001b[0m coloring \u001b[38;5;241m=\u001b[39m \u001b[43mnx\u001b[49m\u001b[38;5;241;43m.\u001b[39;49m\u001b[43mcoloring\u001b[49m\u001b[38;5;241;43m.\u001b[39;49m\u001b[43mgreedy_color\u001b[49m\u001b[43m(\u001b[49m\u001b[43mG\u001b[49m\u001b[43m,\u001b[49m\u001b[43m \u001b[49m\u001b[43mstrategy\u001b[49m\u001b[38;5;241;43m=\u001b[39;49m\u001b[38;5;124;43m\"\u001b[39;49m\u001b[38;5;124;43mDSATUR\u001b[39;49m\u001b[38;5;124;43m\"\u001b[39;49m\u001b[43m)\u001b[49m\n\u001b[1;32m      7\u001b[0m \u001b[38;5;28;01mreturn\u001b[39;00m \u001b[38;5;28mmax\u001b[39m(coloring\u001b[38;5;241m.\u001b[39mvalues()) \u001b[38;5;241m+\u001b[39m \u001b[38;5;241m1\u001b[39m\n",
            "File \u001b[0;32m<class 'networkx.utils.decorators.argmap'> compilation 9:3\u001b[0m, in \u001b[0;36margmap_greedy_color_6\u001b[0;34m(G, strategy, interchange, backend, **backend_kwargs)\u001b[0m\n\u001b[1;32m      1\u001b[0m \u001b[38;5;28;01mimport\u001b[39;00m \u001b[38;5;21;01mbz2\u001b[39;00m\n\u001b[1;32m      2\u001b[0m \u001b[38;5;28;01mimport\u001b[39;00m \u001b[38;5;21;01mcollections\u001b[39;00m\n\u001b[0;32m----> 3\u001b[0m \u001b[38;5;28;01mimport\u001b[39;00m \u001b[38;5;21;01mgzip\u001b[39;00m\n\u001b[1;32m      4\u001b[0m \u001b[38;5;28;01mimport\u001b[39;00m \u001b[38;5;21;01minspect\u001b[39;00m\n\u001b[1;32m      5\u001b[0m \u001b[38;5;28;01mimport\u001b[39;00m \u001b[38;5;21;01mitertools\u001b[39;00m\n",
            "File \u001b[0;32m/Library/Frameworks/Python.framework/Versions/3.12/lib/python3.12/site-packages/networkx/utils/backends.py:633\u001b[0m, in \u001b[0;36m_dispatchable.__call__\u001b[0;34m(self, backend, *args, **kwargs)\u001b[0m\n\u001b[1;32m    628\u001b[0m \u001b[38;5;250m\u001b[39m\u001b[38;5;124;03m\"\"\"Returns the result of the original function, or the backend function if\u001b[39;00m\n\u001b[1;32m    629\u001b[0m \u001b[38;5;124;03mthe backend is specified and that backend implements `func`.\"\"\"\u001b[39;00m\n\u001b[1;32m    631\u001b[0m \u001b[38;5;28;01mif\u001b[39;00m \u001b[38;5;129;01mnot\u001b[39;00m backends:\n\u001b[1;32m    632\u001b[0m     \u001b[38;5;66;03m# Fast path if no backends are installed\u001b[39;00m\n\u001b[0;32m--> 633\u001b[0m     \u001b[38;5;28;01mreturn\u001b[39;00m \u001b[38;5;28;43mself\u001b[39;49m\u001b[38;5;241;43m.\u001b[39;49m\u001b[43morig_func\u001b[49m\u001b[43m(\u001b[49m\u001b[38;5;241;43m*\u001b[39;49m\u001b[43margs\u001b[49m\u001b[43m,\u001b[49m\u001b[43m \u001b[49m\u001b[38;5;241;43m*\u001b[39;49m\u001b[38;5;241;43m*\u001b[39;49m\u001b[43mkwargs\u001b[49m\u001b[43m)\u001b[49m\n\u001b[1;32m    635\u001b[0m \u001b[38;5;66;03m# Use `backend_name` in this function instead of `backend`\u001b[39;00m\n\u001b[1;32m    636\u001b[0m backend_name \u001b[38;5;241m=\u001b[39m backend\n",
            "File \u001b[0;32m/Library/Frameworks/Python.framework/Versions/3.12/lib/python3.12/site-packages/networkx/algorithms/coloring/greedy_coloring.py:365\u001b[0m, in \u001b[0;36mgreedy_color\u001b[0;34m(G, strategy, interchange)\u001b[0m\n\u001b[1;32m    363\u001b[0m \u001b[38;5;28;01mif\u001b[39;00m interchange:\n\u001b[1;32m    364\u001b[0m     \u001b[38;5;28;01mreturn\u001b[39;00m _greedy_coloring_with_interchange(G, nodes)\n\u001b[0;32m--> 365\u001b[0m \u001b[43m\u001b[49m\u001b[38;5;28;43;01mfor\u001b[39;49;00m\u001b[43m \u001b[49m\u001b[43mu\u001b[49m\u001b[43m \u001b[49m\u001b[38;5;129;43;01min\u001b[39;49;00m\u001b[43m \u001b[49m\u001b[43mnodes\u001b[49m\u001b[43m:\u001b[49m\n\u001b[1;32m    366\u001b[0m \u001b[43m    \u001b[49m\u001b[38;5;66;43;03m# Set to keep track of colors of neighbors\u001b[39;49;00m\n\u001b[1;32m    367\u001b[0m \u001b[43m    \u001b[49m\u001b[43mnbr_colors\u001b[49m\u001b[43m \u001b[49m\u001b[38;5;241;43m=\u001b[39;49m\u001b[43m \u001b[49m\u001b[43m{\u001b[49m\u001b[43mcolors\u001b[49m\u001b[43m[\u001b[49m\u001b[43mv\u001b[49m\u001b[43m]\u001b[49m\u001b[43m \u001b[49m\u001b[38;5;28;43;01mfor\u001b[39;49;00m\u001b[43m \u001b[49m\u001b[43mv\u001b[49m\u001b[43m \u001b[49m\u001b[38;5;129;43;01min\u001b[39;49;00m\u001b[43m \u001b[49m\u001b[43mG\u001b[49m\u001b[43m[\u001b[49m\u001b[43mu\u001b[49m\u001b[43m]\u001b[49m\u001b[43m \u001b[49m\u001b[38;5;28;43;01mif\u001b[39;49;00m\u001b[43m \u001b[49m\u001b[43mv\u001b[49m\u001b[43m \u001b[49m\u001b[38;5;129;43;01min\u001b[39;49;00m\u001b[43m \u001b[49m\u001b[43mcolors\u001b[49m\u001b[43m}\u001b[49m\n\u001b[1;32m    368\u001b[0m \u001b[43m    \u001b[49m\u001b[38;5;66;43;03m# Find the first unused color.\u001b[39;49;00m\n",
            "File \u001b[0;32m/Library/Frameworks/Python.framework/Versions/3.12/lib/python3.12/site-packages/networkx/algorithms/coloring/greedy_coloring.py:239\u001b[0m, in \u001b[0;36mstrategy_saturation_largest_first\u001b[0;34m(G, colors)\u001b[0m\n\u001b[1;32m    237\u001b[0m \u001b[38;5;28;01mfor\u001b[39;00m node, color \u001b[38;5;129;01min\u001b[39;00m colors\u001b[38;5;241m.\u001b[39mitems():\n\u001b[1;32m    238\u001b[0m     \u001b[38;5;28;01mfor\u001b[39;00m neighbor \u001b[38;5;129;01min\u001b[39;00m G[node]:\n\u001b[0;32m--> 239\u001b[0m         \u001b[43mdistinct_colors\u001b[49m\u001b[43m[\u001b[49m\u001b[43mneighbor\u001b[49m\u001b[43m]\u001b[49m\u001b[38;5;241;43m.\u001b[39;49m\u001b[43madd\u001b[49m\u001b[43m(\u001b[49m\u001b[43mcolor\u001b[49m\u001b[43m)\u001b[49m\n\u001b[1;32m    241\u001b[0m \u001b[38;5;66;03m# Compute the maximum saturation and the set of nodes that\u001b[39;00m\n\u001b[1;32m    242\u001b[0m \u001b[38;5;66;03m# achieve that saturation.\u001b[39;00m\n\u001b[1;32m    243\u001b[0m saturation \u001b[38;5;241m=\u001b[39m {v: \u001b[38;5;28mlen\u001b[39m(c) \u001b[38;5;28;01mfor\u001b[39;00m v, c \u001b[38;5;129;01min\u001b[39;00m distinct_colors\u001b[38;5;241m.\u001b[39mitems() \u001b[38;5;28;01mif\u001b[39;00m v \u001b[38;5;129;01mnot\u001b[39;00m \u001b[38;5;129;01min\u001b[39;00m colors}\n",
            "\u001b[0;31mKeyboardInterrupt\u001b[0m: "
          ]
        }
      ],
      "source": [
        "for i, n in enumerate(n_array):\n",
        "    for d in d_array[i]:\n",
        "        results = monte_carlo(M, n, alpha0, k, generate_skewnormal, build_knn_graph, chromatic_number)\n",
        "        mean_val = np.mean(results)\n",
        "        var_val = np.var(results, ddof=1)\n",
        "        std_val = math.sqrt(var_val)\n",
        "        se = std_val / math.sqrt(M)\n",
        "        ci_lower = mean_val - 1.96 * se\n",
        "        ci_upper = mean_val + 1.96 * se\n",
        "\n",
        "        print(f\"n={n}, d={d} -> mean = {mean_val:.4f}, var = {var_val:.4f}, 95% CI = ({ci_lower:.4f}, {ci_upper:.4f})\")"
      ]
    },
    {
      "cell_type": "markdown",
      "metadata": {
        "id": "ANaZ54IhVAnQ"
      },
      "source": [
        "## Исследуем, как ведет себя $Τ$ в зависимости от параметров распределения"
      ]
    },
    {
      "cell_type": "markdown",
      "metadata": {
        "id": "64EuiX5PctBs"
      },
      "source": [
        "#### Исследуем KNN-граф"
      ]
    },
    {
      "cell_type": "code",
      "execution_count": 34,
      "metadata": {
        "id": "FEVp3PAPeOR6"
      },
      "outputs": [],
      "source": [
        "n = 100\n",
        "k = 10\n",
        "d = 0.15"
      ]
    },
    {
      "cell_type": "markdown",
      "metadata": {
        "id": "40nH2KFxc0SA"
      },
      "source": [
        "Для $Normal(0,σ)$"
      ]
    },
    {
      "cell_type": "code",
      "execution_count": 35,
      "metadata": {
        "id": "iA_kspDoV_i6"
      },
      "outputs": [],
      "source": [
        "sigma_array = [0.1, 0.25, 0.5, 1.0, 2.0, 4.0]"
      ]
    },
    {
      "cell_type": "code",
      "execution_count": 36,
      "metadata": {
        "id": "zvI-9pe_edfD"
      },
      "outputs": [
        {
          "name": "stdout",
          "output_type": "stream",
          "text": [
            "n=100, k=10 -> mean = 1605.1380, var = 5151.3497, 95% CI = (1598.8468, 1611.4292)\n",
            "n=100, k=10 -> mean = 1605.8440, var = 5260.6850, 95% CI = (1599.4864, 1612.2016)\n",
            "n=100, k=10 -> mean = 1601.0240, var = 4859.4022, 95% CI = (1594.9137, 1607.1343)\n",
            "n=100, k=10 -> mean = 1605.4740, var = 5181.8530, 95% CI = (1599.1642, 1611.7838)\n",
            "n=100, k=10 -> mean = 1592.2560, var = 4179.5937, 95% CI = (1586.5892, 1597.9228)\n",
            "n=100, k=10 -> mean = 1604.3360, var = 4764.8007, 95% CI = (1598.2855, 1610.3865)\n"
          ]
        }
      ],
      "source": [
        "for sigma in sigma_array:\n",
        "    results = monte_carlo(M, n, sigma, k, generate_normal, build_knn_graph, count_triangles)\n",
        "    mean_val = np.mean(results)\n",
        "    var_val = np.var(results, ddof=1)\n",
        "    std_val = math.sqrt(var_val)\n",
        "    se = std_val / math.sqrt(M)\n",
        "    ci_lower = mean_val - 1.96 * se\n",
        "    ci_upper = mean_val + 1.96 * se\n",
        "\n",
        "    print(f\"n={n}, k={k} -> mean = {mean_val:.4f}, var = {var_val:.4f}, 95% CI = ({ci_lower:.4f}, {ci_upper:.4f})\")"
      ]
    },
    {
      "cell_type": "markdown",
      "metadata": {
        "id": "W1rBsJ2Pc3bU"
      },
      "source": [
        "Для $SkewNormal(α)$"
      ]
    },
    {
      "cell_type": "code",
      "execution_count": 37,
      "metadata": {
        "id": "Fuo_2mKLc7TN"
      },
      "outputs": [],
      "source": [
        "alpha_array = [0.25, 0.5, 0.75, 1.0, 1.5, 2.0]"
      ]
    },
    {
      "cell_type": "code",
      "execution_count": 38,
      "metadata": {
        "id": "hnyVyQBSfVLI"
      },
      "outputs": [
        {
          "name": "stdout",
          "output_type": "stream",
          "text": [
            "n=100, k=10 -> mean = 11.0000, var = 0.0000, 95% CI = (11.0000, 11.0000)\n",
            "n=100, k=10 -> mean = 11.0000, var = 0.0000, 95% CI = (11.0000, 11.0000)\n",
            "n=100, k=10 -> mean = 11.0000, var = 0.0000, 95% CI = (11.0000, 11.0000)\n",
            "n=100, k=10 -> mean = 11.0000, var = 0.0000, 95% CI = (11.0000, 11.0000)\n",
            "n=100, k=10 -> mean = 11.0000, var = 0.0000, 95% CI = (11.0000, 11.0000)\n",
            "n=100, k=10 -> mean = 11.0000, var = 0.0000, 95% CI = (11.0000, 11.0000)\n"
          ]
        }
      ],
      "source": [
        "for alpha in alpha_array:\n",
        "    results = monte_carlo(M, n, alpha, k, generate_skewnormal, build_knn_graph, chromatic_number)\n",
        "    mean_val = np.mean(results)\n",
        "    var_val = np.var(results, ddof=1)\n",
        "    std_val = math.sqrt(var_val)\n",
        "    se = std_val / math.sqrt(M)\n",
        "    ci_lower = mean_val - 1.96 * se\n",
        "    ci_upper = mean_val + 1.96 * se\n",
        "\n",
        "    print(f\"n={n}, k={k} -> mean = {mean_val:.4f}, var = {var_val:.4f}, 95% CI = ({ci_lower:.4f}, {ci_upper:.4f})\")"
      ]
    },
    {
      "cell_type": "markdown",
      "metadata": {
        "id": "9XQ_SCFbcvkd"
      },
      "source": [
        "#### Исследуем дистанционный-граф"
      ]
    },
    {
      "cell_type": "markdown",
      "metadata": {
        "id": "KPUDDuDOc1hs"
      },
      "source": [
        "Для $Normal(0,σ)$"
      ]
    },
    {
      "cell_type": "code",
      "execution_count": 39,
      "metadata": {
        "id": "bn7VEARVfC_7"
      },
      "outputs": [],
      "source": [
        "sigma_array = [0.1, 0.25, 0.5, 1.0, 2.0, 4.0]"
      ]
    },
    {
      "cell_type": "code",
      "execution_count": 43,
      "metadata": {
        "id": "yDU3M3a-c2_L"
      },
      "outputs": [
        {
          "name": "stdout",
          "output_type": "stream",
          "text": [
            "n=100, d=0.15 -> mean = 1605.9100, var = 4794.9318, 95% CI = (1599.8404, 1611.9796)\n",
            "n=100, d=0.15 -> mean = 1605.4740, var = 5089.5444, 95% CI = (1599.2207, 1611.7273)\n",
            "n=100, d=0.15 -> mean = 1602.0140, var = 4456.5108, 95% CI = (1596.1625, 1607.8655)\n",
            "n=100, d=0.15 -> mean = 1604.6020, var = 4254.0156, 95% CI = (1598.8850, 1610.3190)\n",
            "n=100, d=0.15 -> mean = 1603.8980, var = 4788.5447, 95% CI = (1597.8324, 1609.9636)\n",
            "n=100, d=0.15 -> mean = 1601.1540, var = 4681.5975, 95% CI = (1595.1565, 1607.1515)\n"
          ]
        }
      ],
      "source": [
        "for sigma in sigma_array:\n",
        "    results = monte_carlo(M, n, sigma, k, generate_normal, build_knn_graph, count_triangles)\n",
        "    mean_val = np.mean(results)\n",
        "    var_val = np.var(results, ddof=1)\n",
        "    std_val = math.sqrt(var_val)\n",
        "    se = std_val / math.sqrt(M)\n",
        "    ci_lower = mean_val - 1.96 * se\n",
        "    ci_upper = mean_val + 1.96 * se\n",
        "\n",
        "    print(f\"n={n}, d={d} -> mean = {mean_val:.4f}, var = {var_val:.4f}, 95% CI = ({ci_lower:.4f}, {ci_upper:.4f})\")"
      ]
    },
    {
      "cell_type": "markdown",
      "metadata": {
        "id": "0tcki1x1c7r-"
      },
      "source": [
        "Для $SkewNormal(α)$"
      ]
    },
    {
      "cell_type": "code",
      "execution_count": 44,
      "metadata": {
        "id": "NqABrfwLc9Kf"
      },
      "outputs": [],
      "source": [
        "alpha_array = [0.25, 0.5, 0.75, 1.0, 1.5, 2.0]"
      ]
    },
    {
      "cell_type": "code",
      "execution_count": 45,
      "metadata": {
        "id": "yYBSmEdYfWnS"
      },
      "outputs": [
        {
          "name": "stdout",
          "output_type": "stream",
          "text": [
            "n=100, d=0.15 -> mean = 11.0000, var = 0.0000, 95% CI = (11.0000, 11.0000)\n",
            "n=100, d=0.15 -> mean = 11.0000, var = 0.0000, 95% CI = (11.0000, 11.0000)\n",
            "n=100, d=0.15 -> mean = 11.0000, var = 0.0000, 95% CI = (11.0000, 11.0000)\n",
            "n=100, d=0.15 -> mean = 11.0000, var = 0.0000, 95% CI = (11.0000, 11.0000)\n",
            "n=100, d=0.15 -> mean = 11.0000, var = 0.0000, 95% CI = (11.0000, 11.0000)\n",
            "n=100, d=0.15 -> mean = 11.0000, var = 0.0000, 95% CI = (11.0000, 11.0000)\n"
          ]
        }
      ],
      "source": [
        "for alpha in alpha_array:\n",
        "    results = monte_carlo(M, n, alpha, k, generate_skewnormal, build_knn_graph, chromatic_number)\n",
        "    mean_val = np.mean(results)\n",
        "    var_val = np.var(results, ddof=1)\n",
        "    std_val = math.sqrt(var_val)\n",
        "    se = std_val / math.sqrt(M)\n",
        "    ci_lower = mean_val - 1.96 * se\n",
        "    ci_upper = mean_val + 1.96 * se\n",
        "\n",
        "    print(f\"n={n}, d={d} -> mean = {mean_val:.4f}, var = {var_val:.4f}, 95% CI = ({ci_lower:.4f}, {ci_upper:.4f})\")"
      ]
    }
  ],
  "metadata": {
    "colab": {
      "provenance": []
    },
    "kernelspec": {
      "display_name": "Python 3",
      "name": "python3"
    },
    "language_info": {
      "codemirror_mode": {
        "name": "ipython",
        "version": 3
      },
      "file_extension": ".py",
      "mimetype": "text/x-python",
      "name": "python",
      "nbconvert_exporter": "python",
      "pygments_lexer": "ipython3",
      "version": "3.12.0"
    }
  },
  "nbformat": 4,
  "nbformat_minor": 0
}
